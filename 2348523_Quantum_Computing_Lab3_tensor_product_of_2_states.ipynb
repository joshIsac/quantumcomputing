{
 "cells": [
  {
   "cell_type": "markdown",
   "metadata": {
    "colab_type": "text",
    "id": "view-in-github"
   },
   "source": [
    "<a href=\"https://colab.research.google.com/github/joshIsac/quantumcomputing/blob/main/2348523_Quantum_Computing_Lab3_tensor_product_of_2_states.ipynb\" target=\"_parent\"><img src=\"https://colab.research.google.com/assets/colab-badge.svg\" alt=\"Open In Colab\"/></a>\n"
   ]
  },
  {
   "cell_type": "code",
   "execution_count": null,
   "metadata": {
    "colab": {
     "base_uri": "https://localhost:8080/"
    },
    "id": "v1KMe_1ODEiy",
    "outputId": "abf0ca8f-1f74-45ba-e3e1-693b03d760e0"
   },
   "outputs": [
    {
     "data": {
      "text/plain": [
       "array([[0, 1, 0, 0],\n",
       "       [1, 0, 0, 0],\n",
       "       [0, 0, 0, 1],\n",
       "       [0, 0, 1, 0]])"
      ]
     },
     "execution_count": 2,
     "metadata": {},
     "output_type": "execute_result"
    }
   ],
   "source": [
    "#tensor product of 2 states\n",
    "import numpy as np\n",
    "#define the identity matrix and NOT gate also known to be as pauli-X gate\n",
    "I = np.array([[1,0],[0,1]])\n",
    "X = np.array([[0,1],[1,0]])\n",
    "\n",
    "def tensor_product(a,b):\n",
    "    return np.kron(a,b)\n",
    "\n",
    "tensor_product(I,X)\n"
   ]
  },
  {
   "cell_type": "markdown",
   "metadata": {
    "id": "xA4zwg3XyJwM"
   },
   "source": [
    "the tenser product in mathematics lets consider two vector spaces A and B and its tensor product is A ⊗ B where A and B is a vector space to which it has a bilinear mapping A X B -> A ⊗ B that maps a pair (a,b) where a∈A and b∈B\n",
    "\n",
    "\n",
    "now when it comes to states we call it kronecker prduct  an operation on two matrices resulting in a block matrices\n"
   ]
  },
  {
   "cell_type": "code",
   "execution_count": null,
   "metadata": {
    "colab": {
     "base_uri": "https://localhost:8080/"
    },
    "id": "Ju1pXlqGx0Ks",
    "outputId": "0080e07a-2022-43ff-880c-53e69b00739c"
   },
   "outputs": [
    {
     "name": "stdout",
     "output_type": "stream",
     "text": [
      "Controlled unitary operation C(x):\n",
      "[[1 0 0 0]\n",
      " [0 1 0 0]\n",
      " [0 0 0 1]\n",
      " [0 0 1 0]]\n"
     ]
    }
   ],
   "source": [
    "# Tensor Product of two quantum states (Krodnecker Gate)\n",
    "#implementing Control unitary operation c(x)\n",
    "# Define the Identity matrix and Pauli-X gate\n",
    "I = np.array([[1, 0],[0, 1]])\n",
    "\n",
    "X = np.array([[0, 1],[1, 0]])\n",
    "\n",
    "# Define the projector |0><0| and |1><1|\n",
    "projection_0 = np.array([[1, 0],[0, 0]])\n",
    "\n",
    "projection_1 = np.array([[0, 0],[0, 1]])\n",
    "\n",
    "# Calculate the controlled unitary operation C(x)\n",
    "C_x = np.kron(projection_0, I) + np.kron(projection_1, X)\n",
    "\n",
    "# Display the result\n",
    "print(\"Controlled unitary operation C(x):\")\n",
    "print(C_x)"
   ]
  },
  {
   "cell_type": "code",
   "execution_count": null,
   "metadata": {
    "colab": {
     "base_uri": "https://localhost:8080/"
    },
    "collapsed": true,
    "id": "FMDS94C9Fijx",
    "outputId": "673cfd8a-ba4e-4d28-ee95-520089c3b7ee"
   },
   "outputs": [
    {
     "name": "stdout",
     "output_type": "stream",
     "text": [
      "Collecting qiskit\n",
      "  Downloading qiskit-1.2.4-cp38-abi3-manylinux_2_17_x86_64.manylinux2014_x86_64.whl.metadata (12 kB)\n",
      "Collecting rustworkx>=0.15.0 (from qiskit)\n",
      "  Downloading rustworkx-0.15.1-cp38-abi3-manylinux_2_17_x86_64.manylinux2014_x86_64.whl.metadata (9.9 kB)\n",
      "Requirement already satisfied: numpy<3,>=1.17 in /usr/local/lib/python3.10/dist-packages (from qiskit) (1.26.4)\n",
      "Requirement already satisfied: scipy>=1.5 in /usr/local/lib/python3.10/dist-packages (from qiskit) (1.13.1)\n",
      "Requirement already satisfied: sympy>=1.3 in /usr/local/lib/python3.10/dist-packages (from qiskit) (1.13.3)\n",
      "Collecting dill>=0.3 (from qiskit)\n",
      "  Downloading dill-0.3.9-py3-none-any.whl.metadata (10 kB)\n",
      "Requirement already satisfied: python-dateutil>=2.8.0 in /usr/local/lib/python3.10/dist-packages (from qiskit) (2.8.2)\n",
      "Collecting stevedore>=3.0.0 (from qiskit)\n",
      "  Downloading stevedore-5.3.0-py3-none-any.whl.metadata (2.3 kB)\n",
      "Requirement already satisfied: typing-extensions in /usr/local/lib/python3.10/dist-packages (from qiskit) (4.12.2)\n",
      "Collecting symengine<0.14,>=0.11 (from qiskit)\n",
      "  Downloading symengine-0.13.0-cp310-cp310-manylinux_2_17_x86_64.manylinux2014_x86_64.whl.metadata (1.2 kB)\n",
      "Requirement already satisfied: six>=1.5 in /usr/local/lib/python3.10/dist-packages (from python-dateutil>=2.8.0->qiskit) (1.16.0)\n",
      "Collecting pbr>=2.0.0 (from stevedore>=3.0.0->qiskit)\n",
      "  Downloading pbr-6.1.0-py2.py3-none-any.whl.metadata (3.4 kB)\n",
      "Requirement already satisfied: mpmath<1.4,>=1.1.0 in /usr/local/lib/python3.10/dist-packages (from sympy>=1.3->qiskit) (1.3.0)\n",
      "Downloading qiskit-1.2.4-cp38-abi3-manylinux_2_17_x86_64.manylinux2014_x86_64.whl (4.8 MB)\n",
      "\u001b[2K   \u001b[90m━━━━━━━━━━━━━━━━━━━━━━━━━━━━━━━━━━━━━━━━\u001b[0m \u001b[32m4.8/4.8 MB\u001b[0m \u001b[31m43.3 MB/s\u001b[0m eta \u001b[36m0:00:00\u001b[0m\n",
      "\u001b[?25hDownloading dill-0.3.9-py3-none-any.whl (119 kB)\n",
      "\u001b[2K   \u001b[90m━━━━━━━━━━━━━━━━━━━━━━━━━━━━━━━━━━━━━━━━\u001b[0m \u001b[32m119.4/119.4 kB\u001b[0m \u001b[31m7.9 MB/s\u001b[0m eta \u001b[36m0:00:00\u001b[0m\n",
      "\u001b[?25hDownloading rustworkx-0.15.1-cp38-abi3-manylinux_2_17_x86_64.manylinux2014_x86_64.whl (2.0 MB)\n",
      "\u001b[2K   \u001b[90m━━━━━━━━━━━━━━━━━━━━━━━━━━━━━━━━━━━━━━━━\u001b[0m \u001b[32m2.0/2.0 MB\u001b[0m \u001b[31m55.0 MB/s\u001b[0m eta \u001b[36m0:00:00\u001b[0m\n",
      "\u001b[?25hDownloading stevedore-5.3.0-py3-none-any.whl (49 kB)\n",
      "\u001b[2K   \u001b[90m━━━━━━━━━━━━━━━━━━━━━━━━━━━━━━━━━━━━━━━━\u001b[0m \u001b[32m49.7/49.7 kB\u001b[0m \u001b[31m2.9 MB/s\u001b[0m eta \u001b[36m0:00:00\u001b[0m\n",
      "\u001b[?25hDownloading symengine-0.13.0-cp310-cp310-manylinux_2_17_x86_64.manylinux2014_x86_64.whl (49.7 MB)\n",
      "\u001b[2K   \u001b[90m━━━━━━━━━━━━━━━━━━━━━━━━━━━━━━━━━━━━━━━━\u001b[0m \u001b[32m49.7/49.7 MB\u001b[0m \u001b[31m11.7 MB/s\u001b[0m eta \u001b[36m0:00:00\u001b[0m\n",
      "\u001b[?25hDownloading pbr-6.1.0-py2.py3-none-any.whl (108 kB)\n",
      "\u001b[2K   \u001b[90m━━━━━━━━━━━━━━━━━━━━━━━━━━━━━━━━━━━━━━━━\u001b[0m \u001b[32m108.5/108.5 kB\u001b[0m \u001b[31m7.5 MB/s\u001b[0m eta \u001b[36m0:00:00\u001b[0m\n",
      "\u001b[?25hInstalling collected packages: symengine, rustworkx, pbr, dill, stevedore, qiskit\n",
      "Successfully installed dill-0.3.9 pbr-6.1.0 qiskit-1.2.4 rustworkx-0.15.1 stevedore-5.3.0 symengine-0.13.0\n",
      "Collecting qiskit-aer\n",
      "  Downloading qiskit_aer-0.15.1-cp310-cp310-manylinux_2_17_x86_64.manylinux2014_x86_64.whl.metadata (8.0 kB)\n",
      "Requirement already satisfied: qiskit>=1.1.0 in /usr/local/lib/python3.10/dist-packages (from qiskit-aer) (1.2.4)\n",
      "Requirement already satisfied: numpy>=1.16.3 in /usr/local/lib/python3.10/dist-packages (from qiskit-aer) (1.26.4)\n",
      "Requirement already satisfied: scipy>=1.0 in /usr/local/lib/python3.10/dist-packages (from qiskit-aer) (1.13.1)\n",
      "Requirement already satisfied: psutil>=5 in /usr/local/lib/python3.10/dist-packages (from qiskit-aer) (5.9.5)\n",
      "Requirement already satisfied: rustworkx>=0.15.0 in /usr/local/lib/python3.10/dist-packages (from qiskit>=1.1.0->qiskit-aer) (0.15.1)\n",
      "Requirement already satisfied: sympy>=1.3 in /usr/local/lib/python3.10/dist-packages (from qiskit>=1.1.0->qiskit-aer) (1.13.3)\n",
      "Requirement already satisfied: dill>=0.3 in /usr/local/lib/python3.10/dist-packages (from qiskit>=1.1.0->qiskit-aer) (0.3.9)\n",
      "Requirement already satisfied: python-dateutil>=2.8.0 in /usr/local/lib/python3.10/dist-packages (from qiskit>=1.1.0->qiskit-aer) (2.8.2)\n",
      "Requirement already satisfied: stevedore>=3.0.0 in /usr/local/lib/python3.10/dist-packages (from qiskit>=1.1.0->qiskit-aer) (5.3.0)\n",
      "Requirement already satisfied: typing-extensions in /usr/local/lib/python3.10/dist-packages (from qiskit>=1.1.0->qiskit-aer) (4.12.2)\n",
      "Requirement already satisfied: symengine<0.14,>=0.11 in /usr/local/lib/python3.10/dist-packages (from qiskit>=1.1.0->qiskit-aer) (0.13.0)\n",
      "Requirement already satisfied: six>=1.5 in /usr/local/lib/python3.10/dist-packages (from python-dateutil>=2.8.0->qiskit>=1.1.0->qiskit-aer) (1.16.0)\n",
      "Requirement already satisfied: pbr>=2.0.0 in /usr/local/lib/python3.10/dist-packages (from stevedore>=3.0.0->qiskit>=1.1.0->qiskit-aer) (6.1.0)\n",
      "Requirement already satisfied: mpmath<1.4,>=1.1.0 in /usr/local/lib/python3.10/dist-packages (from sympy>=1.3->qiskit>=1.1.0->qiskit-aer) (1.3.0)\n",
      "Downloading qiskit_aer-0.15.1-cp310-cp310-manylinux_2_17_x86_64.manylinux2014_x86_64.whl (12.3 MB)\n",
      "\u001b[2K   \u001b[90m━━━━━━━━━━━━━━━━━━━━━━━━━━━━━━━━━━━━━━━━\u001b[0m \u001b[32m12.3/12.3 MB\u001b[0m \u001b[31m84.5 MB/s\u001b[0m eta \u001b[36m0:00:00\u001b[0m\n",
      "\u001b[?25hInstalling collected packages: qiskit-aer\n",
      "Successfully installed qiskit-aer-0.15.1\n"
     ]
    }
   ],
   "source": [
    "!pip install qiskit\n",
    "!pip install qiskit-aer"
   ]
  },
  {
   "cell_type": "code",
   "execution_count": null,
   "metadata": {
    "colab": {
     "base_uri": "https://localhost:8080/"
    },
    "id": "pJRCq5oBFhc6",
    "outputId": "f6ac6e69-97e3-461d-c6fb-944c5a83b529"
   },
   "outputs": [
    {
     "data": {
      "text/plain": [
       "array([ 4,  5,  6,  8, 10, 12, 12, 15, 18])"
      ]
     },
     "execution_count": 5,
     "metadata": {},
     "output_type": "execute_result"
    }
   ],
   "source": [
    "#implementation of tensor product of any two vectors\n",
    "import numpy as np\n",
    "a=np.array([1,2,3])\n",
    "b=np.array([4,5,6])\n",
    "\n",
    "\n",
    "def tensor_product(a,b):\n",
    "    return np.kron(a,b)\n",
    "\n",
    "tensor_product(a,b)"
   ]
  },
  {
   "cell_type": "code",
   "execution_count": null,
   "metadata": {
    "id": "ibcJZ8oXHgYU"
   },
   "outputs": [],
   "source": [
    "from qiskit import QuantumCircuit,transpile, assemble\n",
    "from qiskit.quantum_info import Statevector, Operator, DensityMatrix,partial_trace\n",
    "from qiskit.visualization import plot_histogram\n",
    "from qiskit_aer import Aer"
   ]
  },
  {
   "cell_type": "code",
   "execution_count": null,
   "metadata": {
    "colab": {
     "base_uri": "https://localhost:8080/"
    },
    "id": "pwwofWMAHfzV",
    "outputId": "589736a0-7171-4a6b-9dd8-2e3157e4a8cb"
   },
   "outputs": [
    {
     "name": "stdout",
     "output_type": "stream",
     "text": [
      "new state after applying Pauli-X: [0.70710678 0.70710678]\n"
     ]
    }
   ],
   "source": [
    "#define the quantum states\n",
    "psi_0 = np.array([(1/np.sqrt(2)),(1/np.sqrt(2))])#superposition state\n",
    "\n",
    "#defining the pauli X\n",
    "X = np.array([[0,1],[1,0]])\n",
    "\n",
    "#implement the operator on two states\n",
    "state=np.dot(X,psi_0)\n",
    "print(\"new state after applying Pauli-X:\" ,state)"
   ]
  },
  {
   "cell_type": "code",
   "execution_count": null,
   "metadata": {
    "colab": {
     "base_uri": "https://localhost:8080/"
    },
    "id": "CYKSeIPeNEXH",
    "outputId": "0b9437f7-b0fd-4849-f07d-109b4c957485"
   },
   "outputs": [
    {
     "name": "stdout",
     "output_type": "stream",
     "text": [
      "probability of observing |0>:0.4999999999999999\n",
      "probability of observing |1>:0.4999999999999999\n"
     ]
    }
   ],
   "source": [
    "# Step 4: Simulate a partial measurement\n",
    "probability_0=np.abs(state[0])**2\n",
    "probability_1=np.abs(state[1])**2\n",
    "\n",
    "print(f\"probability of observing |0>:{probability_0}\")\n",
    "print(f\"probability of observing |1>:{probability_1}\")\n"
   ]
  },
  {
   "cell_type": "code",
   "execution_count": null,
   "metadata": {
    "colab": {
     "base_uri": "https://localhost:8080/"
    },
    "id": "Sy2gXiU5ZMfR",
    "outputId": "f717806d-3551-4440-bf53-ee6d99b3999e"
   },
   "outputs": [
    {
     "name": "stdout",
     "output_type": "stream",
     "text": [
      "measurement:|0>\n"
     ]
    }
   ],
   "source": [
    "outcomes=np.random.choice([0,1],p=[probability_0,probability_1])\n",
    "print(f\"measurement:|{outcomes}>\")\n"
   ]
  },
  {
   "cell_type": "code",
   "execution_count": null,
   "metadata": {
    "colab": {
     "base_uri": "https://localhost:8080/",
     "height": 446
    },
    "id": "XJdLKohLo7X-",
    "outputId": "58a0362b-5f42-45ca-deeb-b7fdc37f174f"
   },
   "outputs": [
    {
     "name": "stdout",
     "output_type": "stream",
     "text": [
      "Measurement results for 1000 shots: {'0': 482, '1': 518}\n"
     ]
    },
    {
     "data": {
      "image/png": "[encoded data removed]",
      "text/plain": [
       "<Figure size 640x480 with 1 Axes>"
      ]
     },
     "execution_count": 75,
     "metadata": {},
     "output_type": "execute_result"
    }
   ],
   "source": [
    "#qiskit for partial measurement\n",
    "# Step 1: Create a quantum circuit with one qubit and one classical bit\n",
    "qc=QuantumCircuit(1,1)\n",
    "\n",
    "#initialize the quibit in superposition state\n",
    "qc.h(0)\n",
    "\n",
    "#pauli-X\n",
    "qc.x(0)\n",
    "#measure the qubit and store the result in the classical bit\n",
    "qc.measure(0,0)\n",
    "\n",
    "simulator=Aer.get_backend('qasm_simulator')\n",
    "\n",
    "# plot_histogram(counts)\n",
    "\n",
    "# Compile the circuit for the backend\n",
    "compiled_circuit = transpile(qc, simulator)\n",
    "\n",
    "\n",
    "# Run the simulation with 1000 shots, passing the compiled circuit, NOT the qobj\n",
    "result = simulator.run(compiled_circuit, shots=1000).result()\n",
    "\n",
    "# Get the measurement counts (frequency of 0s and 1s)\n",
    "counts = result.get_counts()\n",
    "\n",
    "# Output the results\n",
    "print(\"Measurement results for 1000 shots:\", counts)\n",
    "\n",
    "# Visualize the results using a histogram\n",
    "plot_histogram(counts)"
   ]
  },
  {
   "cell_type": "markdown",
   "metadata": {
    "id": "g9uKtxqWu1RS"
   },
   "source": [
    "controlled Swap gate also known to be as Fredkin gate\n",
    "it is  a circuit with inputs and transmits 3 outputs that that transmits the first bit unchanged and swaps the last two bits if, and only if, the first bit is 1.\n",
    "\n",
    "\n",
    "*  here the first qubit is control qubit\n",
    "*  2nd and 3rd qubits are the main targets\n",
    "*   if control Qubit is |0> it remains unchaged elso if its |1> the target qubits are swapped\n",
    "\n",
    "\n",
    "\n",
    "\n",
    "\n",
    "\n"
   ]
  },
  {
   "cell_type": "code",
   "execution_count": null,
   "metadata": {
    "colab": {
     "base_uri": "https://localhost:8080/"
    },
    "id": "x935HSymwC1M",
    "outputId": "987a3874-8314-4252-e761-197a2bc6bc19"
   },
   "outputs": [
    {
     "name": "stdout",
     "output_type": "stream",
     "text": [
      "control_0:\n",
      "[[1 0 0 0 0 0 0 0]\n",
      " [0 1 0 0 0 0 0 0]\n",
      " [0 0 1 0 0 0 0 0]\n",
      " [0 0 0 1 0 0 0 0]\n",
      " [0 0 0 0 0 0 0 0]\n",
      " [0 0 0 0 0 0 0 0]\n",
      " [0 0 0 0 0 0 0 0]\n",
      " [0 0 0 0 0 0 0 0]]\n",
      "\n",
      "\n",
      "control_1:\n",
      "[[0 0 0 0 0 0 0 0]\n",
      " [0 0 0 0 0 0 0 0]\n",
      " [0 0 0 0 0 0 0 0]\n",
      " [0 0 0 0 0 0 0 0]\n",
      " [0 0 0 0 1 0 0 0]\n",
      " [0 0 0 0 0 0 1 0]\n",
      " [0 0 0 0 0 1 0 0]\n",
      " [0 0 0 0 0 0 0 1]]\n",
      "\n",
      "\n",
      "CSWAP Matrix:\n",
      "[[1 0 0 0 0 0 0 0]\n",
      " [0 1 0 0 0 0 0 0]\n",
      " [0 0 1 0 0 0 0 0]\n",
      " [0 0 0 1 0 0 0 0]\n",
      " [0 0 0 0 1 0 0 0]\n",
      " [0 0 0 0 0 0 1 0]\n",
      " [0 0 0 0 0 1 0 0]\n",
      " [0 0 0 0 0 0 0 1]]\n"
     ]
    }
   ],
   "source": [
    "I=np.array([[1,0],[0,1]])\n",
    "\n",
    "#swap gates\n",
    "SWAP= np.array([[1, 0, 0, 0],\n",
    "                 [0, 0, 1, 0],\n",
    "                 [0, 1, 0, 0],\n",
    "                 [0, 0, 0, 1]])\n",
    "\n",
    "#inner products of projectors\n",
    "projection_0 = np.array([[1, 0],[0, 0]])#|0><0|\n",
    "projection_1 = np.array([[0, 0],[0, 1]]) # |1><1|\n",
    "\n",
    "#implement CSWAP operation\n",
    "#when Qubit is |0> we apply Identity\n",
    "control_0=np.kron(projection_0, np.kron(I, I))   # |0><0| ⊗ I ⊗ I\n",
    "\n",
    "#when Qubit is |1> we apply SWAP gate\n",
    "control_1=np.kron(projection_1,SWAP) # |1><1| ⊗ SWAP ⊗ I\n",
    "\n",
    "\n",
    "CSWAP= control_0 +control_1\n",
    "\n",
    "print(\"control_0:\")\n",
    "print(control_0)\n",
    "print(\"\\n\")\n",
    "print(\"control_1:\")\n",
    "print(control_1)\n",
    "print(\"\\n\")\n",
    "print(\"CSWAP Matrix:\")\n",
    "print(CSWAP)\n",
    "\n",
    "\n",
    "\n",
    "\n"
   ]
  },
  {
   "cell_type": "code",
   "execution_count": null,
   "metadata": {
    "colab": {
     "base_uri": "https://localhost:8080/"
    },
    "id": "3hLeRbmkyFxN",
    "outputId": "1f6475b2-bc40-4fa9-a882-7d8832d19b52"
   },
   "outputs": [
    {
     "name": "stdout",
     "output_type": "stream",
     "text": [
      "[[1 0 0 0]\n",
      " [0 1 0 0]\n",
      " [0 0 1 0]\n",
      " [0 0 0 1]]\n",
      "\n",
      "\n",
      "[[1 0]\n",
      " [0 0]]\n",
      "\n",
      "\n",
      "[[1 0 0 0 0 0 0 0]\n",
      " [0 1 0 0 0 0 0 0]\n",
      " [0 0 1 0 0 0 0 0]\n",
      " [0 0 0 1 0 0 0 0]\n",
      " [0 0 0 0 0 0 0 0]\n",
      " [0 0 0 0 0 0 0 0]\n",
      " [0 0 0 0 0 0 0 0]\n",
      " [0 0 0 0 0 0 0 0]]\n"
     ]
    }
   ],
   "source": [
    "kron_1=np.kron(I,I)\n",
    "print(kron_1)\n",
    "print(\"\\n\")\n",
    "print(projection_0)\n",
    "print(\"\\n\")\n",
    "\n",
    "control = np.kron(projection_0,kron_1)\n",
    "print(control)"
   ]
  },
  {
   "cell_type": "code",
   "execution_count": null,
   "metadata": {
    "colab": {
     "base_uri": "https://localhost:8080/"
    },
    "id": "2MBUgEI4yGHh",
    "outputId": "8bc2ac3c-a33c-4daf-a43b-558ab88fde9b"
   },
   "outputs": [
    {
     "name": "stdout",
     "output_type": "stream",
     "text": [
      "ket_00:\n",
      "[[1]\n",
      " [0]\n",
      " [0]\n",
      " [0]]\n",
      "\n",
      "\n",
      "ket_01:\n",
      "[[0]\n",
      " [0]\n",
      " [0]\n",
      " [1]]\n",
      "\n",
      "\n",
      "ket_10:\n",
      "[[0]\n",
      " [0]\n",
      " [1]\n",
      " [0]]\n",
      "\n",
      "\n",
      "ket_11:\n",
      "[[0]\n",
      " [1]\n",
      " [0]\n",
      " [0]]\n"
     ]
    }
   ],
   "source": [
    "#Derive the metric representation for Toffoli operation and also the Dirac notation.\n",
    "#derive the matrices\n",
    "I=np.array([[1,0],[0,1]])\n",
    "X=np.array([[0,1],[1,0]])\n",
    "\n",
    "\n",
    "#column vector representation two qubit states\n",
    "\n",
    "ket_00=np.array([[1],[0],[0],[0]])\n",
    "ket_01=np.array([[0],[0],[0],[1]])\n",
    "ket_10=np.array([[0],[0],[1],[0]])\n",
    "ket_11=np.array([[0],[1],[0],[0]])\n",
    "\n",
    "print(\"ket_00:\")\n",
    "print(ket_00)\n",
    "print(\"\\n\")\n",
    "print(\"ket_01:\")\n",
    "print(ket_01)\n",
    "print(\"\\n\")\n",
    "print(\"ket_10:\")\n",
    "print(ket_10)\n",
    "print(\"\\n\")\n",
    "print(\"ket_11:\")\n",
    "print(ket_11)"
   ]
  },
  {
   "cell_type": "code",
   "execution_count": null,
   "metadata": {
    "colab": {
     "base_uri": "https://localhost:8080/"
    },
    "id": "smb4HKZY3eHv",
    "outputId": "f45b4dc4-8924-4ecf-f9e7-9b99520d7d91"
   },
   "outputs": [
    {
     "name": "stdout",
     "output_type": "stream",
     "text": [
      "bra_00:\n",
      "[[1 0 0 0]]\n",
      "\n",
      "\n",
      "bra_01:\n",
      "[[0 0 0 1]]\n",
      "\n",
      "\n",
      "bra_10:\n",
      "[[0 0 1 0]]\n",
      "\n",
      "\n",
      "bra_11:\n",
      "[[0 1 0 0]]\n"
     ]
    }
   ],
   "source": [
    "#transpose of ket_00 or say row vectors of 2 qubit states\n",
    "bra_00=np.transpose(ket_00)\n",
    "bra_01=np.transpose(ket_01)\n",
    "bra_10=np.transpose(ket_10)\n",
    "bra_11=np.transpose(ket_11)\n",
    "\n",
    "\n",
    "print(\"bra_00:\")\n",
    "print(bra_00)\n",
    "print(\"\\n\")\n",
    "print(\"bra_01:\")\n",
    "print(bra_01)\n",
    "print(\"\\n\")\n",
    "print(\"bra_10:\")\n",
    "print(bra_10)\n",
    "print(\"\\n\")\n",
    "print(\"bra_11:\")\n",
    "print(bra_11)\n",
    "\n"
   ]
  },
  {
   "cell_type": "code",
   "execution_count": null,
   "metadata": {
    "colab": {
     "base_uri": "https://localhost:8080/"
    },
    "id": "BxJHjysk6a_S",
    "outputId": "58c44c4c-7d96-49d4-a7ad-91131bdad267"
   },
   "outputs": [
    {
     "name": "stdout",
     "output_type": "stream",
     "text": [
      "matrix representation of |00><00| for control qubits:\n",
      "[[1 0 0 0]\n",
      " [0 0 0 0]\n",
      " [0 0 0 0]\n",
      " [0 0 0 0]]\n",
      "\n",
      "\n",
      "matrix representation of |01><01| for control qubits:\n",
      "[[0 0 0 0]\n",
      " [0 0 0 0]\n",
      " [0 0 0 0]\n",
      " [0 0 0 1]]\n",
      "\n",
      "\n",
      "matrix representation of |10><10| for control qubits:\n",
      "[[0 0 0 0]\n",
      " [0 0 0 0]\n",
      " [0 0 1 0]\n",
      " [0 0 0 0]]\n",
      "\n",
      "\n",
      "matrix representation of |11><11| for control qubits:\n",
      "[[0 0 0 0]\n",
      " [0 1 0 0]\n",
      " [0 0 0 0]\n",
      " [0 0 0 0]]\n"
     ]
    }
   ],
   "source": [
    "#projector or outer product/tensor product\n",
    "projector_00=np.kron(ket_00,bra_00)\n",
    "print(\"matrix representation of |00><00| for control qubits:\")\n",
    "print(projector_00)\n",
    "\n",
    "projector_01=np.kron(ket_01,bra_01)\n",
    "print(\"\\n\")\n",
    "print(\"matrix representation of |01><01| for control qubits:\")\n",
    "print(projector_01)\n",
    "\n",
    "projector_10=np.kron(ket_10,bra_10)\n",
    "print(\"\\n\")\n",
    "print(\"matrix representation of |10><10| for control qubits:\")\n",
    "print(projector_10)\n",
    "\n",
    "projector_11=np.kron(ket_11,bra_11)\n",
    "print(\"\\n\")\n",
    "print(\"matrix representation of |11><11| for control qubits:\")\n",
    "print(projector_11)"
   ]
  },
  {
   "cell_type": "code",
   "execution_count": null,
   "metadata": {
    "colab": {
     "base_uri": "https://localhost:8080/"
    },
    "id": "J41l4hbD7afe",
    "outputId": "aefc520b-b982-41e6-d160-658f29357065"
   },
   "outputs": [
    {
     "name": "stdout",
     "output_type": "stream",
     "text": [
      "C_not_11:\n",
      "[[1 0 0 0 0 0 0 0]\n",
      " [0 1 0 0 0 0 0 0]\n",
      " [0 0 1 0 0 0 0 0]\n",
      " [0 0 0 1 0 0 0 0]\n",
      " [0 0 0 0 1 0 0 0]\n",
      " [0 0 0 0 0 1 0 0]\n",
      " [0 0 0 0 0 0 0 0]\n",
      " [0 0 0 0 0 0 0 0]]\n"
     ]
    }
   ],
   "source": [
    "#when control qubits are not both|11>\n",
    "\n",
    "C_not_11=np.kron(projector_00,I)+np.kron(projector_01,I)+np.kron(projector_10,I)\n",
    "print(\"C_not_11:\")\n",
    "print(C_not_11)\n",
    "\n",
    "\n",
    "# C_not_11=np.kron(projector_00+projector_01+projector_10,I)\n",
    "# print(\"C_not_11:\")\n",
    "# print(C_not_11)"
   ]
  },
  {
   "cell_type": "code",
   "execution_count": null,
   "metadata": {
    "colab": {
     "base_uri": "https://localhost:8080/"
    },
    "id": "Gi6pOAuX7a0n",
    "outputId": "560dd8e0-8e83-4f56-e696-016ea3a87228"
   },
   "outputs": [
    {
     "name": "stdout",
     "output_type": "stream",
     "text": [
      "control_11:\n",
      "[[0 0 0 0 0 0 0 0]\n",
      " [0 0 0 0 0 0 0 0]\n",
      " [0 0 0 0 0 0 0 0]\n",
      " [0 0 0 0 0 0 0 0]\n",
      " [0 0 0 0 0 0 0 0]\n",
      " [0 0 0 0 0 0 0 0]\n",
      " [0 0 0 0 0 0 0 1]\n",
      " [0 0 0 0 0 0 1 0]]\n"
     ]
    }
   ],
   "source": [
    "#when the control qubit it is |11>\n",
    "control_11=np.kron(projector_11,X)\n",
    "print(\"control_11:\")\n",
    "print(control_11)"
   ]
  },
  {
   "cell_type": "code",
   "execution_count": null,
   "metadata": {
    "colab": {
     "base_uri": "https://localhost:8080/"
    },
    "id": "uEw12h02AcM8",
    "outputId": "87cda7ee-1f8a-4ef3-ee77-1d66006a546b"
   },
   "outputs": [
    {
     "name": "stdout",
     "output_type": "stream",
     "text": [
      "toffoli:\n",
      "[[1 0 0 0 0 0 0 0]\n",
      " [0 1 0 0 0 0 0 0]\n",
      " [0 0 1 0 0 0 0 0]\n",
      " [0 0 0 1 0 0 0 0]\n",
      " [0 0 0 0 1 0 0 0]\n",
      " [0 0 0 0 0 1 0 0]\n",
      " [0 0 0 0 0 0 0 1]\n",
      " [0 0 0 0 0 0 1 0]]\n"
     ]
    }
   ],
   "source": [
    "#toffoli\n",
    "toffoli=C_not_11+control_11\n",
    "print(\"toffoli:\")\n",
    "print(toffoli)"
   ]
  },
  {
   "cell_type": "markdown",
   "metadata": {
    "id": "P_tr8t_BEe9A"
   },
   "source": [
    "Toffoli gate also known to be as CCNOT Gate with two control qubit"
   ]
  },
  {
   "cell_type": "code",
   "execution_count": null,
   "metadata": {
    "id": "fI4hTs8JJX0A"
   },
   "outputs": [],
   "source": []
  }
 ],
 "metadata": {
  "colab": {
   "authorship_tag": "ABX9TyOdKjpQdbm4lY0Qm5SL1j+x",
   "include_colab_link": true,
   "provenance": []
  },
  "kernelspec": {
   "display_name": "Python 3",
   "name": "python3"
  },
  "language_info": {
   "name": "python"
  }
 },
 "nbformat": 4,
 "nbformat_minor": 0
}
