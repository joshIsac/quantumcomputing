{
  "nbformat": 4,
  "nbformat_minor": 0,
  "metadata": {
    "colab": {
      "provenance": [],
      "authorship_tag": "ABX9TyMUsNUPjC9CeAEhvOfq8j3R",
      "include_colab_link": true
    },
    "kernelspec": {
      "name": "python3",
      "display_name": "Python 3"
    },
    "language_info": {
      "name": "python"
    }
  },
  "cells": [
    {
      "cell_type": "markdown",
      "metadata": {
        "id": "view-in-github",
        "colab_type": "text"
      },
      "source": [
        "<a href=\"https://colab.research.google.com/github/joshIsac/quantumcomputing/blob/main/2348523_Quantum_Computing_Lab3_tensor_product_of_2_states.ipynb\" target=\"_parent\"><img src=\"https://colab.research.google.com/assets/colab-badge.svg\" alt=\"Open In Colab\"/></a>"
      ]
    },
    {
      "cell_type": "code",
      "execution_count": 3,
      "metadata": {
        "id": "v1KMe_1ODEiy",
        "colab": {
          "base_uri": "https://localhost:8080/"
        },
        "outputId": "4fd5dc55-9528-43a1-9f43-f46227b78c97"
      },
      "outputs": [
        {
          "output_type": "execute_result",
          "data": {
            "text/plain": [
              "array([[0, 1, 0, 0],\n",
              "       [1, 0, 0, 0],\n",
              "       [0, 0, 0, 1],\n",
              "       [0, 0, 1, 0]])"
            ]
          },
          "metadata": {},
          "execution_count": 3
        }
      ],
      "source": [
        "#tensor product of 2 states\n",
        "import numpy as np\n",
        "#define the identity matrix and NOT gate also known to be as pauli-X gate\n",
        "I = np.array([[1,0],[0,1]])\n",
        "X = np.array([[0,1],[1,0]])\n",
        "\n",
        "def tensor_product(a,b):\n",
        "    return np.kron(a,b)\n",
        "\n",
        "tensor_product(I,X)\n"
      ]
    },
    {
      "cell_type": "markdown",
      "source": [
        "the tenser product in mathematics lets consider two vector spaces A and B and its tensor product is A ⊗ B where A and B is a vector space to which it has a bilinear mapping A X B -> A ⊗ B that maps a pair (a,b) where a∈A and b∈B\n",
        "\n",
        "\n",
        "now when it comes to states we call it kronecker prduct  an operation on two matrices resulting in a block matrices\n"
      ],
      "metadata": {
        "id": "xA4zwg3XyJwM"
      }
    },
    {
      "cell_type": "code",
      "source": [
        "# Tensor Product of two quantum states (Krodnecker Gate)\n",
        "#implementing Control unitary operation c(x)\n",
        "# Define the Identity matrix and Pauli-X gate\n",
        "I = np.array([[1, 0],[0, 1]])\n",
        "\n",
        "X = np.array([[0, 1],[1, 0]])\n",
        "\n",
        "# Define the projector |0><0| and |1><1|\n",
        "projection_0 = np.array([[1, 0],[0, 0]])\n",
        "\n",
        "projection_1 = np.array([[0, 0],[0, 1]])\n",
        "\n",
        "# Calculate the controlled unitary operation C(x)\n",
        "C_x = np.kron(projection_0, I) + np.kron(projection_1, X)\n",
        "\n",
        "# Display the result\n",
        "print(\"Controlled unitary operation C(x):\")\n",
        "print(C_x)"
      ],
      "metadata": {
        "id": "Ju1pXlqGx0Ks",
        "colab": {
          "base_uri": "https://localhost:8080/"
        },
        "outputId": "6ddb8773-ef10-4cd6-95c5-ced5e17898aa"
      },
      "execution_count": 4,
      "outputs": [
        {
          "output_type": "stream",
          "name": "stdout",
          "text": [
            "Controlled unitary operation C(x):\n",
            "[[1 0 0 0]\n",
            " [0 1 0 0]\n",
            " [0 0 0 1]\n",
            " [0 0 1 0]]\n"
          ]
        }
      ]
    },
    {
      "cell_type": "code",
      "source": [
        "!pip install qiskit\n",
        "!pip install qiskit-aer"
      ],
      "metadata": {
        "collapsed": true,
        "colab": {
          "base_uri": "https://localhost:8080/"
        },
        "id": "FMDS94C9Fijx",
        "outputId": "bbc46eb6-2690-448f-ca4c-c5dd1870a073"
      },
      "execution_count": 13,
      "outputs": [
        {
          "output_type": "stream",
          "name": "stdout",
          "text": [
            "Requirement already satisfied: qiskit in /usr/local/lib/python3.10/dist-packages (1.2.4)\n",
            "Requirement already satisfied: rustworkx>=0.15.0 in /usr/local/lib/python3.10/dist-packages (from qiskit) (0.15.1)\n",
            "Requirement already satisfied: numpy<3,>=1.17 in /usr/local/lib/python3.10/dist-packages (from qiskit) (1.26.4)\n",
            "Requirement already satisfied: scipy>=1.5 in /usr/local/lib/python3.10/dist-packages (from qiskit) (1.13.1)\n",
            "Requirement already satisfied: sympy>=1.3 in /usr/local/lib/python3.10/dist-packages (from qiskit) (1.13.3)\n",
            "Requirement already satisfied: dill>=0.3 in /usr/local/lib/python3.10/dist-packages (from qiskit) (0.3.9)\n",
            "Requirement already satisfied: python-dateutil>=2.8.0 in /usr/local/lib/python3.10/dist-packages (from qiskit) (2.8.2)\n",
            "Requirement already satisfied: stevedore>=3.0.0 in /usr/local/lib/python3.10/dist-packages (from qiskit) (5.3.0)\n",
            "Requirement already satisfied: typing-extensions in /usr/local/lib/python3.10/dist-packages (from qiskit) (4.12.2)\n",
            "Requirement already satisfied: symengine<0.14,>=0.11 in /usr/local/lib/python3.10/dist-packages (from qiskit) (0.13.0)\n",
            "Requirement already satisfied: six>=1.5 in /usr/local/lib/python3.10/dist-packages (from python-dateutil>=2.8.0->qiskit) (1.16.0)\n",
            "Requirement already satisfied: pbr>=2.0.0 in /usr/local/lib/python3.10/dist-packages (from stevedore>=3.0.0->qiskit) (6.1.0)\n",
            "Requirement already satisfied: mpmath<1.4,>=1.1.0 in /usr/local/lib/python3.10/dist-packages (from sympy>=1.3->qiskit) (1.3.0)\n",
            "Collecting qiskit-aer\n",
            "  Downloading qiskit_aer-0.15.1-cp310-cp310-manylinux_2_17_x86_64.manylinux2014_x86_64.whl.metadata (8.0 kB)\n",
            "Requirement already satisfied: qiskit>=1.1.0 in /usr/local/lib/python3.10/dist-packages (from qiskit-aer) (1.2.4)\n",
            "Requirement already satisfied: numpy>=1.16.3 in /usr/local/lib/python3.10/dist-packages (from qiskit-aer) (1.26.4)\n",
            "Requirement already satisfied: scipy>=1.0 in /usr/local/lib/python3.10/dist-packages (from qiskit-aer) (1.13.1)\n",
            "Requirement already satisfied: psutil>=5 in /usr/local/lib/python3.10/dist-packages (from qiskit-aer) (5.9.5)\n",
            "Requirement already satisfied: rustworkx>=0.15.0 in /usr/local/lib/python3.10/dist-packages (from qiskit>=1.1.0->qiskit-aer) (0.15.1)\n",
            "Requirement already satisfied: sympy>=1.3 in /usr/local/lib/python3.10/dist-packages (from qiskit>=1.1.0->qiskit-aer) (1.13.3)\n",
            "Requirement already satisfied: dill>=0.3 in /usr/local/lib/python3.10/dist-packages (from qiskit>=1.1.0->qiskit-aer) (0.3.9)\n",
            "Requirement already satisfied: python-dateutil>=2.8.0 in /usr/local/lib/python3.10/dist-packages (from qiskit>=1.1.0->qiskit-aer) (2.8.2)\n",
            "Requirement already satisfied: stevedore>=3.0.0 in /usr/local/lib/python3.10/dist-packages (from qiskit>=1.1.0->qiskit-aer) (5.3.0)\n",
            "Requirement already satisfied: typing-extensions in /usr/local/lib/python3.10/dist-packages (from qiskit>=1.1.0->qiskit-aer) (4.12.2)\n",
            "Requirement already satisfied: symengine<0.14,>=0.11 in /usr/local/lib/python3.10/dist-packages (from qiskit>=1.1.0->qiskit-aer) (0.13.0)\n",
            "Requirement already satisfied: six>=1.5 in /usr/local/lib/python3.10/dist-packages (from python-dateutil>=2.8.0->qiskit>=1.1.0->qiskit-aer) (1.16.0)\n",
            "Requirement already satisfied: pbr>=2.0.0 in /usr/local/lib/python3.10/dist-packages (from stevedore>=3.0.0->qiskit>=1.1.0->qiskit-aer) (6.1.0)\n",
            "Requirement already satisfied: mpmath<1.4,>=1.1.0 in /usr/local/lib/python3.10/dist-packages (from sympy>=1.3->qiskit>=1.1.0->qiskit-aer) (1.3.0)\n",
            "Downloading qiskit_aer-0.15.1-cp310-cp310-manylinux_2_17_x86_64.manylinux2014_x86_64.whl (12.3 MB)\n",
            "\u001b[2K   \u001b[90m━━━━━━━━━━━━━━━━━━━━━━━━━━━━━━━━━━━━━━━━\u001b[0m \u001b[32m12.3/12.3 MB\u001b[0m \u001b[31m76.0 MB/s\u001b[0m eta \u001b[36m0:00:00\u001b[0m\n",
            "\u001b[?25hInstalling collected packages: qiskit-aer\n",
            "Successfully installed qiskit-aer-0.15.1\n"
          ]
        }
      ]
    },
    {
      "cell_type": "code",
      "source": [
        "#implementation of tensor product of any two vectors\n",
        "import numpy as np\n",
        "a=np.array([1,2,3])\n",
        "b=np.array([4,5,6])\n",
        "\n",
        "\n",
        "def tensor_product(a,b):\n",
        "    return np.kron(a,b)\n",
        "\n",
        "tensor_product(a,b)"
      ],
      "metadata": {
        "colab": {
          "base_uri": "https://localhost:8080/"
        },
        "id": "pJRCq5oBFhc6",
        "outputId": "fa786328-b102-4031-9013-984f08d2259d"
      },
      "execution_count": 10,
      "outputs": [
        {
          "output_type": "execute_result",
          "data": {
            "text/plain": [
              "array([ 4,  5,  6,  8, 10, 12, 12, 15, 18])"
            ]
          },
          "metadata": {},
          "execution_count": 10
        }
      ]
    },
    {
      "cell_type": "code",
      "source": [
        "from qiskit import QuantumCircuit\n",
        "from qiskit.quantum_info import Statevector, Operator, DensityMatrix,partial_trace\n",
        "from qiskit.visualization import plot_histogram\n",
        "from qiskit_aer import Aer"
      ],
      "metadata": {
        "id": "ibcJZ8oXHgYU"
      },
      "execution_count": 22,
      "outputs": []
    },
    {
      "cell_type": "code",
      "source": [
        "#define the quantum states\n",
        "psi_0 = ((1/np.sqrt(2))*np.array([1,1]))\n",
        "psi_1 = ((1/np.sqrt(2))*np.array([1,-1]))\n",
        "\n",
        "#defining the pauli X\n",
        "X = np.array([[0,1],[1,0]])\n",
        "\n",
        "#implement the tensor product of two states\n",
        "state=np.kron(psi_0,psi_1)\n",
        "print(state)"
      ],
      "metadata": {
        "colab": {
          "base_uri": "https://localhost:8080/"
        },
        "id": "pwwofWMAHfzV",
        "outputId": "7d7e138d-5ee1-412a-d15c-5515b2fc513c"
      },
      "execution_count": 62,
      "outputs": [
        {
          "output_type": "stream",
          "name": "stdout",
          "text": [
            "[ 0.5 -0.5  0.5 -0.5]\n"
          ]
        }
      ]
    },
    {
      "cell_type": "code",
      "source": [
        "# Apply the Pauli-X operator to the first qubit\n",
        "I=np.array([[1,0],[0,1]])\n",
        "operator=np.kron(X,I)\n",
        "print(operator)"
      ],
      "metadata": {
        "colab": {
          "base_uri": "https://localhost:8080/"
        },
        "id": "8SZBlXFhItSP",
        "outputId": "378667a7-f605-476e-e13d-ad7425e6c7e8"
      },
      "execution_count": 63,
      "outputs": [
        {
          "output_type": "stream",
          "name": "stdout",
          "text": [
            "[[0 0 1 0]\n",
            " [0 0 0 1]\n",
            " [1 0 0 0]\n",
            " [0 1 0 0]]\n"
          ]
        }
      ]
    },
    {
      "cell_type": "code",
      "source": [
        "new_state=np.dot(operator,state)\n",
        "print(new_state)"
      ],
      "metadata": {
        "colab": {
          "base_uri": "https://localhost:8080/"
        },
        "id": "oPCqP1vMKycw",
        "outputId": "81d2ac79-c158-4bf4-8be3-994f295d6a52"
      },
      "execution_count": 64,
      "outputs": [
        {
          "output_type": "stream",
          "name": "stdout",
          "text": [
            "[ 0.5 -0.5  0.5 -0.5]\n"
          ]
        }
      ]
    },
    {
      "cell_type": "code",
      "source": [
        "# Step 4: Simulate a partial measurement\n",
        "def sim(state):\n",
        "   probabilities = np.abs(state)**2  # Probability distribution\n",
        "   measurement_outcome = np.random.choice(range(len(state)), p=probabilities)\n",
        "   return measurement_outcome\n",
        "\n",
        "# Perform a partial measurement on the state\n",
        "measurement_result = sim(new_state)\n",
        "print(\"Measurement result (index of the qubit):\", measurement_result)\n"
      ],
      "metadata": {
        "colab": {
          "base_uri": "https://localhost:8080/"
        },
        "id": "CYKSeIPeNEXH",
        "outputId": "ea1b9a9f-fc5e-4c39-d616-2d7a05d750cd"
      },
      "execution_count": 65,
      "outputs": [
        {
          "output_type": "stream",
          "name": "stdout",
          "text": [
            "Measurement result (index of the qubit): 1\n"
          ]
        }
      ]
    },
    {
      "cell_type": "code",
      "source": [],
      "metadata": {
        "id": "Sy2gXiU5ZMfR"
      },
      "execution_count": null,
      "outputs": []
    }
  ]
}