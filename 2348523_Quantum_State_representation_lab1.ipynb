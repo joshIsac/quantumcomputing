{
  "nbformat": 4,
  "nbformat_minor": 0,
  "metadata": {
    "colab": {
      "provenance": [],
      "authorship_tag": "ABX9TyOUlbz++LMQD3UTpACtgpbN",
      "include_colab_link": true
    },
    "kernelspec": {
      "name": "python3",
      "display_name": "Python 3"
    },
    "language_info": {
      "name": "python"
    }
  },
  "cells": [
    {
      "cell_type": "markdown",
      "metadata": {
        "id": "view-in-github",
        "colab_type": "text"
      },
      "source": [
        "<a href=\"https://colab.research.google.com/github/joshIsac/quantumcomputing/blob/main/2348523_Quantum_State_representation_lab1.ipynb\" target=\"_parent\"><img src=\"https://colab.research.google.com/assets/colab-badge.svg\" alt=\"Open In Colab\"/></a>"
      ]
    },
    {
      "cell_type": "code",
      "source": [
        "!pip install qiskit"
      ],
      "metadata": {
        "id": "zc19ZoyBJn1g"
      },
      "execution_count": null,
      "outputs": []
    },
    {
      "cell_type": "code",
      "source": [
        "import numpy as np\n",
        "#defining qubit state vectors\n",
        "import array\n",
        "ket0=np.array([1,0])\n",
        "ket1=np.array([0,1])\n",
        "\n",
        "display(ket0/2+ket1/2)"
      ],
      "metadata": {
        "colab": {
          "base_uri": "https://localhost:8080/",
          "height": 34
        },
        "id": "d9DdpR2WJzlc",
        "outputId": "de52d6fc-c264-4069-c827-b036ae18e968"
      },
      "execution_count": 66,
      "outputs": [
        {
          "output_type": "display_data",
          "data": {
            "text/plain": [
              "array([0.5, 0.5])"
            ]
          },
          "metadata": {}
        }
      ]
    },
    {
      "cell_type": "markdown",
      "source": [
        "here we are defining two qubit state vectors commonly refered to as ket0(column vector for state 0)and ket1(column vector for state 1)"
      ],
      "metadata": {
        "id": "mNiHDKMZ2jJN"
      }
    },
    {
      "cell_type": "code",
      "source": [
        "m=np.array([[1,1],[1,-1]])\n",
        "n=np.array([[1,0],[1,0]])\n",
        "m/2+n/2"
      ],
      "metadata": {
        "colab": {
          "base_uri": "https://localhost:8080/"
        },
        "id": "_sIDYtCBTBz6",
        "outputId": "baac3cb2-4f05-405b-c727-38290cb6bd9d"
      },
      "execution_count": 44,
      "outputs": [
        {
          "output_type": "execute_result",
          "data": {
            "text/plain": [
              "array([[ 1. ,  0.5],\n",
              "       [ 1. , -0.5]])"
            ]
          },
          "metadata": {},
          "execution_count": 44
        }
      ]
    },
    {
      "cell_type": "code",
      "source": [
        "from numpy import matmul\n",
        "display(matmul(m,ket1))\n",
        "display(matmul(m,ket0))\n",
        "display(matmul(n,ket1))\n",
        "display(matmul(n,ket0))\n",
        "display(matmul(m,n))\n",
        "display(matmul(n,m))"
      ],
      "metadata": {
        "colab": {
          "base_uri": "https://localhost:8080/",
          "height": 156
        },
        "id": "YD2JIor0jP6y",
        "outputId": "85c718eb-f95f-417d-d55f-4ff451b5e5cc"
      },
      "execution_count": 43,
      "outputs": [
        {
          "output_type": "display_data",
          "data": {
            "text/plain": [
              "array([ 1.+0.j, -1.+0.j])"
            ]
          },
          "metadata": {}
        },
        {
          "output_type": "display_data",
          "data": {
            "text/plain": [
              "array([1.+0.j, 1.+0.j])"
            ]
          },
          "metadata": {}
        },
        {
          "output_type": "display_data",
          "data": {
            "text/plain": [
              "array([0.+0.j, 0.+0.j])"
            ]
          },
          "metadata": {}
        },
        {
          "output_type": "display_data",
          "data": {
            "text/plain": [
              "array([1.+0.j, 1.+0.j])"
            ]
          },
          "metadata": {}
        },
        {
          "output_type": "display_data",
          "data": {
            "text/plain": [
              "array([[2, 0],\n",
              "       [0, 0]])"
            ]
          },
          "metadata": {}
        },
        {
          "output_type": "display_data",
          "data": {
            "text/plain": [
              "array([[1, 1],\n",
              "       [1, 1]])"
            ]
          },
          "metadata": {}
        }
      ]
    },
    {
      "cell_type": "code",
      "source": [
        "#State vector class provides functionality for defining and manipulating quantum state vectors.\n",
        "from qiskit.quantum_info import Statevector\n",
        "ket0=Statevector.from_label('0')\n",
        "ket1=Statevector.from_label('1')\n",
        "display(ket0/2+ket1/2)"
      ],
      "metadata": {
        "colab": {
          "base_uri": "https://localhost:8080/"
        },
        "id": "D5jQFm3WkK0O",
        "outputId": "6383bad2-81d5-431a-b0f8-bfce514c0808"
      },
      "execution_count": 5,
      "outputs": [
        {
          "output_type": "stream",
          "name": "stdout",
          "text": [
            "Statevector([0.5+0.j, 0.5+0.j],\n",
            "            dims=(2,))\n"
          ]
        }
      ]
    },
    {
      "cell_type": "code",
      "source": [
        "u=Statevector([1/np.sqrt(2),1/np.sqrt(2)])\n",
        "v=Statevector([(1+2.0j)/3,-2/3])\n",
        "w=Statevector([(3/5),(4/5)])\n",
        "x=Statevector([(1+3j)/2,(1-3j)/2])\n",
        "\n",
        "print(\"State vectors u,v, and w is defined\")\n",
        "print(\"u=\",u)\n",
        "print(\"v=\",v)\n",
        "print(\"w=\",w)\n",
        "print(\"x=\",x)\n"
      ],
      "metadata": {
        "colab": {
          "base_uri": "https://localhost:8080/"
        },
        "id": "cWjuZRndk345",
        "outputId": "48b6d97d-31b5-4feb-b7c3-445854b26a79"
      },
      "execution_count": 46,
      "outputs": [
        {
          "output_type": "stream",
          "name": "stdout",
          "text": [
            "State vectors u,v, and w is defined\n",
            "u= Statevector([0.70710678+0.j, 0.70710678+0.j],\n",
            "            dims=(2,))\n",
            "v= Statevector([ 0.33333333+0.66666667j, -0.66666667+0.j        ],\n",
            "            dims=(2,))\n",
            "w= Statevector([0.6+0.j, 0.8+0.j],\n",
            "            dims=(2,))\n",
            "x= Statevector([0.5+1.5j, 0.5-1.5j],\n",
            "            dims=(2,))\n"
          ]
        }
      ]
    },
    {
      "cell_type": "code",
      "source": [
        "display(u.draw('latex'))\n",
        "#here the draw method allows us to display the state vectors using the form latex"
      ],
      "metadata": {
        "colab": {
          "base_uri": "https://localhost:8080/",
          "height": 40
        },
        "id": "h9s7EIval1cy",
        "outputId": "3d9dd372-bf41-4a1d-9366-68e7bd62eaf7"
      },
      "execution_count": 15,
      "outputs": [
        {
          "output_type": "display_data",
          "data": {
            "text/plain": [
              "<IPython.core.display.Latex object>"
            ],
            "text/latex": "$$\\frac{\\sqrt{2}}{2} |0\\rangle+\\frac{\\sqrt{2}}{2} |1\\rangle$$"
          },
          "metadata": {}
        }
      ]
    },
    {
      "cell_type": "code",
      "source": [
        "display(v.draw('latex'))"
      ],
      "metadata": {
        "colab": {
          "base_uri": "https://localhost:8080/",
          "height": 38
        },
        "id": "FWWeevE_mEjl",
        "outputId": "23a3bc6e-bea1-4e22-8979-483773f7bd54"
      },
      "execution_count": 16,
      "outputs": [
        {
          "output_type": "display_data",
          "data": {
            "text/plain": [
              "<IPython.core.display.Latex object>"
            ],
            "text/latex": "$$(\\frac{1}{3} + \\frac{2 i}{3}) |0\\rangle- \\frac{2}{3} |1\\rangle$$"
          },
          "metadata": {}
        }
      ]
    },
    {
      "cell_type": "code",
      "source": [
        "display(w.draw('latex'))"
      ],
      "metadata": {
        "colab": {
          "base_uri": "https://localhost:8080/",
          "height": 38
        },
        "id": "mQM3Us0ImRsA",
        "outputId": "db38cde2-60f1-4686-acdb-f491ae7466e8"
      },
      "execution_count": 47,
      "outputs": [
        {
          "output_type": "display_data",
          "data": {
            "text/plain": [
              "<IPython.core.display.Latex object>"
            ],
            "text/latex": "$$\\frac{3}{5} |0\\rangle+\\frac{4}{5} |1\\rangle$$"
          },
          "metadata": {}
        }
      ]
    },
    {
      "cell_type": "code",
      "source": [
        "display(x.draw('latex'))"
      ],
      "metadata": {
        "colab": {
          "base_uri": "https://localhost:8080/",
          "height": 38
        },
        "id": "eg7KEIaynVk0",
        "outputId": "23ddeecb-0ac6-48f0-e86a-ea2f93c37dc2"
      },
      "execution_count": 18,
      "outputs": [
        {
          "output_type": "display_data",
          "data": {
            "text/plain": [
              "<IPython.core.display.Latex object>"
            ],
            "text/latex": "$$(\\frac{1}{2} + \\frac{3 i}{2}) |0\\rangle+(\\frac{1}{2} - \\frac{3 i}{2}) |1\\rangle$$"
          },
          "metadata": {}
        }
      ]
    },
    {
      "cell_type": "code",
      "source": [
        "#checking if the state vectors are valid or not\n",
        "display(u.is_valid())\n",
        "display(v.is_valid())\n",
        "display(w.is_valid())\n",
        "display(x.is_valid())"
      ],
      "metadata": {
        "colab": {
          "base_uri": "https://localhost:8080/",
          "height": 86
        },
        "id": "zBs_jKUlmWaZ",
        "outputId": "ae6478d8-96e6-4358-8040-b2b48e0f16d7"
      },
      "execution_count": 48,
      "outputs": [
        {
          "output_type": "display_data",
          "data": {
            "text/plain": [
              "True"
            ]
          },
          "metadata": {}
        },
        {
          "output_type": "display_data",
          "data": {
            "text/plain": [
              "True"
            ]
          },
          "metadata": {}
        },
        {
          "output_type": "display_data",
          "data": {
            "text/plain": [
              "True"
            ]
          },
          "metadata": {}
        },
        {
          "output_type": "display_data",
          "data": {
            "text/plain": [
              "False"
            ]
          },
          "metadata": {}
        }
      ]
    },
    {
      "cell_type": "markdown",
      "source": [
        "A valid qubit state must have a total probability of 1, meaning the norm (length) of the state vector should equal 1."
      ],
      "metadata": {
        "id": "nenLLDaFEdOF"
      }
    },
    {
      "cell_type": "markdown",
      "source": [
        "the measurements of quantum state is simulated using qiskit when we run the measure method we see the standard basis measurement which gives the result of the measurement plus the quantum state where these measurement outcomes are probabilistic in nature which when same method can provide different results\n",
        "\n"
      ],
      "metadata": {
        "id": "ydYmO94Qondb"
      }
    },
    {
      "cell_type": "code",
      "source": [
        "u.measure()\n"
      ],
      "metadata": {
        "id": "9T0_VriEm7gV",
        "colab": {
          "base_uri": "https://localhost:8080/"
        },
        "outputId": "da1e637f-d019-473f-80bc-c619035d4d37"
      },
      "execution_count": null,
      "outputs": [
        {
          "output_type": "execute_result",
          "data": {
            "text/plain": [
              "('1',\n",
              " Statevector([0.+0.j, 1.+0.j],\n",
              "             dims=(2,)))"
            ]
          },
          "metadata": {},
          "execution_count": 52
        }
      ]
    },
    {
      "cell_type": "code",
      "source": [
        "v=Statevector([(1+2.0j)/3,-2/3])\n",
        "v.measure()"
      ],
      "metadata": {
        "colab": {
          "base_uri": "https://localhost:8080/"
        },
        "id": "zpPfUlJ2wsas",
        "outputId": "3f62f1b3-fdbd-44b8-f247-92c1e5b384fa"
      },
      "execution_count": null,
      "outputs": [
        {
          "output_type": "execute_result",
          "data": {
            "text/plain": [
              "('1',\n",
              " Statevector([ 0.+0.j, -1.+0.j],\n",
              "             dims=(2,)))"
            ]
          },
          "metadata": {},
          "execution_count": 66
        }
      ]
    },
    {
      "cell_type": "markdown",
      "source": [
        "here we see that to check whether the state vector to be valid or the sum of the Squares of the absolute value is 1  "
      ],
      "metadata": {
        "id": "KytNQ5Adx6gv"
      }
    },
    {
      "cell_type": "code",
      "source": [
        "#Simulate the measurements of state vectors\n",
        "statistics_u=u.sample_counts(1000)\n",
        "print(statistics_u)\n",
        "statistics_v=v.sample_counts(1000)\n",
        "print(statistics_v)\n",
        "statistics_w=w.sample_counts(1000)\n",
        "print(statistics_w)\n",
        "\n"
      ],
      "metadata": {
        "colab": {
          "base_uri": "https://localhost:8080/"
        },
        "id": "W_gfOzZhx9vl",
        "outputId": "17e95001-f84e-4502-ac1c-76fd68fbace8"
      },
      "execution_count": 62,
      "outputs": [
        {
          "output_type": "stream",
          "name": "stdout",
          "text": [
            "{'0': 509, '1': 491}\n",
            "{'0': 538, '1': 462}\n",
            "{'0': 350, '1': 650}\n"
          ]
        }
      ]
    },
    {
      "cell_type": "code",
      "source": [
        "#ploting using Qiskit\n",
        "from qiskit.visualization import plot_histogram\n",
        "\n",
        "plot_histogram(statistics_u)"
      ],
      "metadata": {
        "colab": {
          "base_uri": "https://localhost:8080/",
          "height": 429
        },
        "id": "8zZZ97hYyTuo",
        "outputId": "a9605b1b-b4e5-4afc-9a78-6aef4b744c0e"
      },
      "execution_count": 63,
      "outputs": [
        {
          "output_type": "execute_result",
          "data": {
            "text/plain": [
              "<Figure size 640x480 with 1 Axes>"
            ],
            "image/png": "[encoded data removed]"
          },
          "metadata": {},
          "execution_count": 63
        }
      ]
    },
    {
      "cell_type": "code",
      "source": [
        "plot_histogram(statistics_v)"
      ],
      "metadata": {
        "colab": {
          "base_uri": "https://localhost:8080/",
          "height": 429
        },
        "id": "o0oSkwLLzgo3",
        "outputId": "3e05da69-fcaa-4ae5-b64e-86736ae9491c"
      },
      "execution_count": 64,
      "outputs": [
        {
          "output_type": "execute_result",
          "data": {
            "text/plain": [
              "<Figure size 640x480 with 1 Axes>"
            ],
            "image/png": "[encoded data removed]"
          },
          "metadata": {},
          "execution_count": 64
        }
      ]
    },
    {
      "cell_type": "code",
      "source": [
        "#plotting of W\n",
        "plot_histogram(statistics_w)"
      ],
      "metadata": {
        "id": "FQqTA4qe4l9v",
        "colab": {
          "base_uri": "https://localhost:8080/",
          "height": 429
        },
        "outputId": "887317bd-d8c7-4ba0-e45c-434a5792fe5b"
      },
      "execution_count": 65,
      "outputs": [
        {
          "output_type": "execute_result",
          "data": {
            "text/plain": [
              "<Figure size 640x480 with 1 Axes>"
            ],
            "image/png": "[encoded data removed]"
          },
          "metadata": {},
          "execution_count": 65
        }
      ]
    },
    {
      "cell_type": "code",
      "source": [],
      "metadata": {
        "id": "JlbvihjCdbJf"
      },
      "execution_count": null,
      "outputs": []
    }
  ]
}