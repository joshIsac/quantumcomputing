{
  "nbformat": 4,
  "nbformat_minor": 0,
  "metadata": {
    "colab": {
      "provenance": [],
      "authorship_tag": "ABX9TyMU4sJd5kZYm+1l04Z9sSUS",
      "include_colab_link": true
    },
    "kernelspec": {
      "name": "python3",
      "display_name": "Python 3"
    },
    "language_info": {
      "name": "python"
    }
  },
  "cells": [
    {
      "cell_type": "markdown",
      "metadata": {
        "id": "view-in-github",
        "colab_type": "text"
      },
      "source": [
        "<a href=\"https://colab.research.google.com/github/joshIsac/quantumcomputing/blob/main/2348523_Teleportation_protocol_lab5.ipynb\" target=\"_parent\"><img src=\"https://colab.research.google.com/assets/colab-badge.svg\" alt=\"Open In Colab\"/></a>"
      ]
    },
    {
      "cell_type": "markdown",
      "source": [
        "Teleportation Protocol\n",
        "The objective of this technique is to transmit one qubit between Alice and Bob by sending two classical bits. However, Alice and Bob must initially share one entangled state."
      ],
      "metadata": {
        "id": "lgvcc-umakU1"
      }
    },
    {
      "cell_type": "code",
      "source": [
        "import numpy as np\n",
        "from qiskit import QuantumCircuit,QuantumRegister,ClassicalRegister\n",
        "from qiskit.visualization import plot_histogram"
      ],
      "metadata": {
        "id": "QeyGh3LRIqTi"
      },
      "execution_count": null,
      "outputs": []
    },
    {
      "cell_type": "code",
      "source": [
        "#Let Q be the Qubit that is to be transmitted to B from A\n",
        "Q=Q"
      ],
      "metadata": {
        "id": "n07H2Z0LIs_F"
      },
      "execution_count": null,
      "outputs": []
    }
  ]
}