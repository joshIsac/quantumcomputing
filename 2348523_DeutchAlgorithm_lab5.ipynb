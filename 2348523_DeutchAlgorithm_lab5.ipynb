{
 "cells": [
  {
   "cell_type": "markdown",
   "metadata": {},
   "source": [
    "## Deutcshe Algorithm :\n",
    "it is one of the algorithm which is deterministic in nature\n",
    "is one of the first quantum algorithms, demonstrating the power of quantum computing to solve specific problems faster than classical methods. It determines whether a given Boolean function \n",
    "f(x), defined as \n",
    "𝑓:{0,1}→{0,1}, is either constant (producing the same output for all inputs) or balanced (producing different outputs for different inputs) with a single evaluation of the function.\n",
    "\n"
   ]
  },
  {
   "cell_type": "code",
   "execution_count": 2,
   "metadata": {},
   "outputs": [],
   "source": [
    "from qiskit import QuantumCircuit \n",
    "from qiskit_aer import AerSimulator"
   ]
  },
  {
   "cell_type": "code",
   "execution_count": 3,
   "metadata": {},
   "outputs": [
    {
     "name": "stdout",
     "output_type": "stream",
     "text": [
      "Query gate for f1:\n"
     ]
    },
    {
     "data": {
      "image/png": "[encoded data removed]",
      "text/plain": [
       "<Figure size 161.878x200.667 with 1 Axes>"
      ]
     },
     "metadata": {},
     "output_type": "display_data"
    },
    {
     "name": "stdout",
     "output_type": "stream",
     "text": [
      "Query gate for f2:\n"
     ]
    },
    {
     "data": {
      "image/png": "[encoded data removed]",
      "text/plain": [
       "<Figure size 203.683x200.667 with 1 Axes>"
      ]
     },
     "metadata": {},
     "output_type": "display_data"
    },
    {
     "name": "stdout",
     "output_type": "stream",
     "text": [
      "Query gate for f3:\n"
     ]
    },
    {
     "data": {
      "image/png": "[encoded data removed]",
      "text/plain": [
       "<Figure size 203.683x200.667 with 1 Axes>"
      ]
     },
     "metadata": {},
     "output_type": "display_data"
    },
    {
     "name": "stdout",
     "output_type": "stream",
     "text": [
      "Query gate for f4:\n"
     ]
    },
    {
     "data": {
      "image/png": "[encoded data removed]",
      "text/plain": [
       "<Figure size 287.294x200.667 with 1 Axes>"
      ]
     },
     "metadata": {},
     "output_type": "display_data"
    }
   ],
   "source": [
    "# defining the Query gates\n",
    "def query_gates(f):\n",
    "    qc=QuantumCircuit(2)\n",
    "\n",
    "    if f==\"f1\":\n",
    "        # f1(x) = 0 -> Identity (no gates needed)\n",
    "        pass\n",
    "\n",
    "    elif f == \"f2\":\n",
    "        # f2(x) = 1 -> Apply X gate to the second qubit\n",
    "        qc.x(1)\n",
    "    elif f == \"f3\":\n",
    "        # f3(x) = x -> Apply CNOT gate (x -> y)\n",
    "        qc.cx(0, 1)\n",
    "    elif f == \"f4\":\n",
    "        # f4(x) = not(x) -> Apply CNOT + X gate\n",
    "        qc.cx(0, 1)\n",
    "        qc.x(1)\n",
    "    else:\n",
    "        raise ValueError(\"Invalid function. Choose 'f1', 'f2', 'f3', or 'f4'.\")\n",
    "    \n",
    "    return qc\n",
    "\n",
    "functions = [\"f1\", \"f2\", \"f3\", \"f4\"]\n",
    "\n",
    "for f in functions:\n",
    "    qc = query_gates(f)\n",
    "    print(f\"Query gate for {f}:\")\n",
    "    display(qc.draw(\"mpl\"))\n",
    "\n",
    "    \n"
   ]
  },
  {
   "cell_type": "markdown",
   "metadata": {},
   "source": [
    "in the above circuit f1 and f2 are constant \n",
    "and f2 and f3 are balanced \n",
    "\n",
    "for a function to be constant \n",
    "say f1(x)=0  at x=0 fx=0 ,similarly x=1 fx=0 and vice versa\n",
    "\n",
    "similary for a function to be balanced \n",
    "f(x)=x at x=0 f(x)=0 and x=1 f(x)=1 \n",
    "and f(x)= x⊕1 at x=0 f(x)=1 and at x=1 f(x)=0"
   ]
  },
  {
   "cell_type": "markdown",
   "metadata": {},
   "source": []
  },
  {
   "cell_type": "code",
   "execution_count": 11,
   "metadata": {},
   "outputs": [
    {
     "data": {
      "image/png": "[encoded data removed]",
      "text/plain": [
       "<Figure size 788.961x284.278 with 1 Axes>"
      ]
     },
     "metadata": {},
     "output_type": "display_data"
    }
   ],
   "source": [
    "#compiling the circuit\n",
    "qc=QuantumCircuit(2,1)\n",
    "qc.x(1)\n",
    "qc.h(range(2))\n",
    "\n",
    "qc.barrier()\n",
    "qc.compose(qc,inplace=True)\n",
    "qc.barrier()\n",
    "\n",
    "qc.h(range(1))\n",
    "\n",
    "\n",
    "display(qc.draw(\"mpl\"))\n"
   ]
  },
  {
   "cell_type": "code",
   "execution_count": null,
   "metadata": {},
   "outputs": [],
   "source": []
  }
 ],
 "metadata": {
  "kernelspec": {
   "display_name": "Python 3",
   "language": "python",
   "name": "python3"
  },
  "language_info": {
   "codemirror_mode": {
    "name": "ipython",
    "version": 3
   },
   "file_extension": ".py",
   "mimetype": "text/x-python",
   "name": "python",
   "nbconvert_exporter": "python",
   "pygments_lexer": "ipython3",
   "version": "3.11.8"
  }
 },
 "nbformat": 4,
 "nbformat_minor": 2
}
