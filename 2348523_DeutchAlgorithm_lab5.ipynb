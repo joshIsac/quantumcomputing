{
 "cells": [
  {
   "cell_type": "markdown",
   "metadata": {},
   "source": [
    "## Deutcshe Algorithm :\n",
    "it is one of the algorithm which is deterministic in nature\n",
    "is one of the first quantum algorithms, demonstrating the power of quantum computing to solve specific problems faster than classical methods. It determines whether a given Boolean function \n",
    "f(x), defined as \n",
    "𝑓:{0,1}→{0,1}, is either constant (producing the same output for all inputs) or balanced (producing different outputs for different inputs) with a single evaluation of the function.\n",
    "\n"
   ]
  },
  {
   "cell_type": "markdown",
   "metadata": {},
   "source": [
    "**How querying works in Deutsch's Algorithm**:\n",
    "\n",
    "1. **Superposition**: Instead of querying $ f(0) $ and $ f(1) $ one after the other, we create a **superposition** of both input states simultaneously. By applying a Hadamard gate to the first qubit, we create a state that effectively represents both 0 and 1 at the same time:\n",
    "   \n",
    "   $\n",
    "   \\frac{1}{\\sqrt{2}}(|0\\rangle + |1\\rangle)\n",
    "   $\n",
    "\n",
    "2. **Quantum Oracle**: The next step involves applying a quantum **oracle** that encodes the function $ f(x) $. This oracle uses the superposition state and evaluates the function on both inputs at once. The result of the oracle is stored in an auxiliary qubit.\n",
    "\n",
    "3. **Interference**: After querying the oracle, we apply another Hadamard transformation. This causes interference between the possible outcomes. The nature of this interference depends on whether $ f $ is constant or balanced, which allows us to distinguish between the two by measuring the first qubit. \n",
    "\n",
    "   - If the first qubit measures $ |0\\rangle $,  the function is constant.\n",
    "   - If the first qubit measures $ |1\\rangle $, the function is balanced.\n",
    "\n",
    "The quantum query is performed **once**, but because of the superposition and interference, it effectively handles both input queries in parallel. This is why Deutsch's Algorithm is more efficient: it solves the problem with only a single query to the oracle, whereas classically, we would need two.\n",
    "\n",
    "By this approach, quantum computing demonstrates a more optimal way of querying functions, taking advantage of quantum parallelism to reduce the number of steps required to solve the problem."
   ]
  },
  {
   "cell_type": "code",
   "execution_count": 54,
   "metadata": {},
   "outputs": [],
   "source": [
    "from qiskit import QuantumCircuit ,transpile\n",
    "from qiskit_aer import AerSimulator"
   ]
  },
  {
   "cell_type": "code",
   "execution_count": 56,
   "metadata": {},
   "outputs": [
    {
     "name": "stdout",
     "output_type": "stream",
     "text": [
      "Query gate for f1:\n"
     ]
    },
    {
     "data": {
      "image/png": "[encoded data removed]",
      "text/plain": [
       "<Figure size 161.878x200.667 with 1 Axes>"
      ]
     },
     "metadata": {},
     "output_type": "display_data"
    },
    {
     "name": "stdout",
     "output_type": "stream",
     "text": [
      "Query gate for f2:\n"
     ]
    },
    {
     "data": {
      "image/png": "[encoded data removed]",
      "text/plain": [
       "<Figure size 203.683x200.667 with 1 Axes>"
      ]
     },
     "metadata": {},
     "output_type": "display_data"
    },
    {
     "name": "stdout",
     "output_type": "stream",
     "text": [
      "Query gate for f3:\n"
     ]
    },
    {
     "data": {
      "image/png": "[encoded data removed]",
      "text/plain": [
       "<Figure size 203.683x200.667 with 1 Axes>"
      ]
     },
     "metadata": {},
     "output_type": "display_data"
    },
    {
     "name": "stdout",
     "output_type": "stream",
     "text": [
      "Query gate for f4:\n"
     ]
    },
    {
     "data": {
      "image/png": "[encoded data removed]",
      "text/plain": [
       "<Figure size 287.294x200.667 with 1 Axes>"
      ]
     },
     "metadata": {},
     "output_type": "display_data"
    }
   ],
   "source": [
    "# defining the Query gates\n",
    "def deutsch_function(f):\n",
    "    \n",
    "    oracle=QuantumCircuit(2)\n",
    "\n",
    "    if f==\"f1\":\n",
    "        # f1(x) = 0 -> Identity (no gates needed)\n",
    "        pass\n",
    "\n",
    "    elif f == \"f2\":\n",
    "        # f2(x) = 1 -> Apply X gate to the second qubit\n",
    "        oracle.x(1)\n",
    "    elif f == \"f3\":\n",
    "        # f3(x) = x -> Apply CNOT gate (x -> y)\n",
    "        oracle.cx(0, 1)\n",
    "    elif f == \"f4\":\n",
    "        # f4(x) = not(x) -> Apply CNOT + X gate\n",
    "        oracle.cx(0, 1)\n",
    "        oracle.x(1)\n",
    "    else:\n",
    "        raise ValueError(\"Invalid function. Choose 'f1', 'f2', 'f3', or 'f4'.\")\n",
    "    \n",
    "    return oracle\n",
    "\n",
    "functions = [\"f1\", \"f2\", \"f3\", \"f4\"]\n",
    "\n",
    "for f in functions:\n",
    "    qc = deutsch_function(f)\n",
    "    print(f\"Query gate for {f}:\")\n",
    "    display(qc.draw(\"mpl\"))\n",
    "\n",
    "    \n"
   ]
  },
  {
   "cell_type": "markdown",
   "metadata": {},
   "source": [
    "in the above circuit f1 and f2 are constant \n",
    "and f2 and f3 are balanced \n",
    "\n",
    "for a function to be constant \n",
    "say f1(x)=0  at x=0 fx=0 ,similarly x=1 fx=0 and vice versa\n",
    "\n",
    "similary for a function to be balanced \n",
    "f(x)=x at x=0 f(x)=0 and x=1 f(x)=1 \n",
    "and f(x)= x⊕1 at x=0 f(x)=1 and at x=1 f(x)=0"
   ]
  },
  {
   "cell_type": "code",
   "execution_count": 55,
   "metadata": {},
   "outputs": [],
   "source": [
    "def deutsch_circuit(f):\n",
    "    \"\"\"\n",
    "    Constructs the Deutsch circuit for the given function f.\n",
    "    \"\"\"\n",
    "    # Create a 2-qubit quantum circuit with 1 classical bit for measurement\n",
    "    qc = QuantumCircuit(2, 1)\n",
    "\n",
    "    #  Initialize the auxiliary qubit to |1>\n",
    "    qc.x(1)\n",
    "    #  Apply Hadamard gates to all qubits\n",
    "    qc.h(range(2))\n",
    "    # Step 3: Add the oracle (query gate)\n",
    "    oracle = deutsch_function(f)\n",
    "    qc.compose(oracle, inplace=True)\n",
    "    #  Apply Hadamard gate to the first qubit\n",
    "    qc.h(0)\n",
    "    #  Measure the first qubit\n",
    "    qc.measure(0, 0)\n",
    "    return qc\n"
   ]
  },
  {
   "cell_type": "code",
   "execution_count": 61,
   "metadata": {},
   "outputs": [],
   "source": [
    "import matplotlib.pyplot as plt\n",
    "from qiskit_aer import AerSimulator\n",
    "def deutsch_algorithm(f):\n",
    "    qc=deutsch_circuit(f)\n",
    "    sim=AerSimulator()\n",
    "\n",
    "    # Transpile and run the circuit on the simulator\n",
    "    compiled_circuit=transpile(qc,sim)\n",
    "    result = sim.run(compiled_circuit).result()\n",
    "\n",
    "\n",
    "    #retrieve the measurement \n",
    "    counts = result.get_counts(qc)\n",
    "    output=list(counts.keys())[0]\n",
    "\n",
    "\n",
    "    # circuit display\n",
    "    print(\"Circuit:\")\n",
    "    print(qc)\n",
    "\n",
    "\n",
    "    qc.draw(output=\"mpl\")\n",
    "    plt.show()\n",
    "\n",
    "    print(\"\\nMeasurement Result:\", counts)\n",
    "\n",
    "    # Interpret the result\n",
    "   # result\n",
    "    if '0' in counts:\n",
    "        print(\"The function is CONSTANT\")\n",
    "    else:\n",
    "        print(\"The function is BALANCED\")\n",
    "\n"
   ]
  },
  {
   "cell_type": "markdown",
   "metadata": {},
   "source": [
    "### Explanation:\n",
    "\n",
    "1. **Oracle** or **Function Type**:\n",
    "   - `constant_0`: Represents $ f(x) = 0 $, i.e., a constant function where $ f(0) = f(1) = 0 $.\n",
    "   - `constant_1`: Represents $ f(x) = 1 $, i.e., a constant function where $ f(0) = f(1) = 1 $.\n",
    "   - `balanced_identity`: Represents $ f(x) = x $, i.e., a balanced function where $ f(0) = 0 $ and $ f(1) = 1 $.\n",
    "   - `balanced_negation`: Represents $ f(x) = \\neg x $, i.e., a balanced function where $ f(0) = 1 $ and $ f(1) = 0 $.\n",
    "\n",
    "2. **Circuit Flow**:\n",
    "   - Step 1: Initialize the second qubit to $ |1\\rangle $ and apply Hadamard gates to create superpositions.\n",
    "   - Step 2: Apply the oracle to modify the qubits based on the function $ f $.\n",
    "   - Step 3: Apply another Hadamard gate to the first qubit, which will cause constructive or destructive interference depending on whether the function is constant or balanced.\n",
    "   - Step 4: Measure the first qubit to determine the result. If the measurement is $ 0 $, the function is constant. If the measurement is $ 1 $, the function is balanced."
   ]
  },
  {
   "cell_type": "code",
   "execution_count": null,
   "metadata": {},
   "outputs": [
    {
     "name": "stdout",
     "output_type": "stream",
     "text": [
      "Circuit:\n",
      "     ┌───┐┌───┐┌─┐\n",
      "q_0: ┤ H ├┤ H ├┤M├\n",
      "     ├───┤├───┤└╥┘\n",
      "q_1: ┤ X ├┤ H ├─╫─\n",
      "     └───┘└───┘ ║ \n",
      "c: 1/═══════════╩═\n",
      "                0 \n",
      "\n",
      "Measurement Result: {'0': 1024}\n",
      "The function is CONSTANT\n",
      "Function f1 is None\n",
      "Circuit:\n",
      "     ┌───┐┌───┐     ┌─┐\n",
      "q_0: ┤ H ├┤ H ├─────┤M├\n",
      "     ├───┤├───┤┌───┐└╥┘\n",
      "q_1: ┤ X ├┤ H ├┤ X ├─╫─\n",
      "     └───┘└───┘└───┘ ║ \n",
      "c: 1/════════════════╩═\n",
      "                     0 \n",
      "\n",
      "Measurement Result: {'0': 1024}\n",
      "The function is CONSTANT\n",
      "Function f2 is None\n",
      "Circuit:\n",
      "     ┌───┐          ┌───┐┌─┐\n",
      "q_0: ┤ H ├───────■──┤ H ├┤M├\n",
      "     ├───┤┌───┐┌─┴─┐└───┘└╥┘\n",
      "q_1: ┤ X ├┤ H ├┤ X ├──────╫─\n",
      "     └───┘└───┘└───┘      ║ \n",
      "c: 1/═════════════════════╩═\n",
      "                          0 \n",
      "\n",
      "Measurement Result: {'1': 1024}\n",
      "The function is BALANCED\n",
      "Function f3 is None\n",
      "Circuit:\n",
      "     ┌───┐          ┌───┐┌─┐\n",
      "q_0: ┤ H ├───────■──┤ H ├┤M├\n",
      "     ├───┤┌───┐┌─┴─┐├───┤└╥┘\n",
      "q_1: ┤ X ├┤ H ├┤ X ├┤ X ├─╫─\n",
      "     └───┘└───┘└───┘└───┘ ║ \n",
      "c: 1/═════════════════════╩═\n",
      "                          0 \n",
      "\n",
      "Measurement Result: {'1': 1024}\n",
      "The function is BALANCED\n",
      "Function f4 is None\n"
     ]
    }
   ],
   "source": [
    "# Test the algorithm\n",
    "functions = [\"f1\", \"f2\", \"f3\", \"f4\"]\n",
    "for f in functions:\n",
    "    print(f\"Function {f} is {deutsch_algorithm(f)}\")"
   ]
  },
  {
   "cell_type": "code",
   "execution_count": 86,
   "metadata": {},
   "outputs": [
    {
     "name": "stdout",
     "output_type": "stream",
     "text": [
      "Circuit:\n",
      "     ┌───┐┌───┐┌─┐\n",
      "q_0: ┤ H ├┤ H ├┤M├\n",
      "     ├───┤├───┤└╥┘\n",
      "q_1: ┤ X ├┤ H ├─╫─\n",
      "     └───┘└───┘ ║ \n",
      "c: 1/═══════════╩═\n",
      "                0 \n",
      "\n",
      "Measurement Result: {'0': 1024}\n",
      "The function is CONSTANT\n"
     ]
    }
   ],
   "source": [
    "deutsch_algorithm(\"f1\")"
   ]
  },
  {
   "cell_type": "code",
   "execution_count": 79,
   "metadata": {},
   "outputs": [
    {
     "name": "stdout",
     "output_type": "stream",
     "text": [
      "Circuit:\n",
      "     ┌───┐┌───┐     ┌─┐\n",
      "q_0: ┤ H ├┤ H ├─────┤M├\n",
      "     ├───┤├───┤┌───┐└╥┘\n",
      "q_1: ┤ X ├┤ H ├┤ X ├─╫─\n",
      "     └───┘└───┘└───┘ ║ \n",
      "c: 1/════════════════╩═\n",
      "                     0 \n",
      "\n",
      "Measurement Result: {'0': 1024}\n",
      "The function is CONSTANT\n"
     ]
    }
   ],
   "source": [
    "deutsch_algorithm(\"f2\")"
   ]
  },
  {
   "cell_type": "code",
   "execution_count": 75,
   "metadata": {},
   "outputs": [
    {
     "name": "stdout",
     "output_type": "stream",
     "text": [
      "Circuit:\n",
      "     ┌───┐          ┌───┐┌─┐\n",
      "q_0: ┤ H ├───────■──┤ H ├┤M├\n",
      "     ├───┤┌───┐┌─┴─┐└───┘└╥┘\n",
      "q_1: ┤ X ├┤ H ├┤ X ├──────╫─\n",
      "     └───┘└───┘└───┘      ║ \n",
      "c: 1/═════════════════════╩═\n",
      "                          0 \n",
      "\n",
      "Measurement Result: {'1': 1024}\n",
      "The function is BALANCED\n"
     ]
    }
   ],
   "source": [
    "deutsch_algorithm(\"f3\")"
   ]
  },
  {
   "cell_type": "code",
   "execution_count": 76,
   "metadata": {},
   "outputs": [
    {
     "name": "stdout",
     "output_type": "stream",
     "text": [
      "Circuit:\n",
      "     ┌───┐          ┌───┐┌─┐\n",
      "q_0: ┤ H ├───────■──┤ H ├┤M├\n",
      "     ├───┤┌───┐┌─┴─┐├───┤└╥┘\n",
      "q_1: ┤ X ├┤ H ├┤ X ├┤ X ├─╫─\n",
      "     └───┘└───┘└───┘└───┘ ║ \n",
      "c: 1/═════════════════════╩═\n",
      "                          0 \n",
      "\n",
      "Measurement Result: {'1': 1024}\n",
      "The function is BALANCED\n"
     ]
    }
   ],
   "source": [
    "deutsch_algorithm(\"f4\")"
   ]
  },
  {
   "cell_type": "code",
   "execution_count": null,
   "metadata": {},
   "outputs": [],
   "source": []
  }
 ],
 "metadata": {
  "kernelspec": {
   "display_name": "Python 3",
   "language": "python",
   "name": "python3"
  },
  "language_info": {
   "codemirror_mode": {
    "name": "ipython",
    "version": 3
   },
   "file_extension": ".py",
   "mimetype": "text/x-python",
   "name": "python",
   "nbconvert_exporter": "python",
   "pygments_lexer": "ipython3",
   "version": "3.11.8"
  }
 },
 "nbformat": 4,
 "nbformat_minor": 2
}
