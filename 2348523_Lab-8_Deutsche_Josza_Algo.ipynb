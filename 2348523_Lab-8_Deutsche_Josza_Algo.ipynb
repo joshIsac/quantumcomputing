{
 "cells": [
  {
   "attachments": {
    "image.png": {
     "image/png": "[encoded data removed]"
    }
   },
   "cell_type": "markdown",
   "metadata": {},
   "source": [
    "Deutsche Josza Algorithm \n",
    "it is the generalization of Deutsche problem for an input ![image.png](attachment:image.png) the task is to get an output 0 if it is constant and 1 the f is balanced\n",
    "the condition is when n>=2 the function ![image.png](attachment:image.png) are neither constant nor balanced \n",
    "in simple this algorithm states any task to constant if its 0 else 1 which is balanced state\n"
   ]
  },
  {
   "cell_type": "code",
   "execution_count": 61,
   "metadata": {},
   "outputs": [],
   "source": [
    "import numpy as np\n",
    "from qiskit import QuantumCircuit ,QuantumRegister\n",
    "from qiskit.visualization import plot_histogram"
   ]
  },
  {
   "cell_type": "code",
   "execution_count": 62,
   "metadata": {},
   "outputs": [],
   "source": [
    "def deutsch_josza(n_qubits):\n",
    "    qc=QuantumCircuit(n_qubits+1)\n",
    "    if np.random.randint(0,2):\n",
    "        qc.x(n_qubits)\n",
    "    if np.random.randint(0,2):\n",
    "        return qc\n",
    "    \n",
    "\n",
    "#choosing half the possible state \n",
    "    onstates=np.random.choice(\n",
    "    range(2**n_qubits), 2**n_qubits // 2,  # number of samples\n",
    "    replace=False,  # makes sure states are only sampled once\n",
    "    )\n",
    "    \n",
    "\n",
    "def addcontrol_x(qc,bit_string):\n",
    "    for qubit,bit in enumerate(reversed(bit_string)):\n",
    "        if bit == \"1\":\n",
    "          qc.x(qubit)\n",
    "    return qc\n",
    "\n",
    "    for state in onstates:\n",
    "        qc.barrier()  # Barriers are added to help visualize how the functions are created. They can safely be removed.\n",
    "        qc = addcontrol_x(qc, f\"{state:0b}\")\n",
    "        qc.mcx(list(range(n_qubits)), n_qubits)\n",
    "        qc = addcontrol_x(qc, f\"{state:0b}\")\n",
    "\n",
    "    qc.barrier()\n",
    "\n",
    "    return qc\n"
   ]
  },
  {
   "cell_type": "code",
   "execution_count": 69,
   "metadata": {},
   "outputs": [
    {
     "data": {
      "text/html": [
       "<pre style=\"word-wrap: normal;white-space: pre;background: #fff0;line-height: 1.1;font-family: &quot;Courier New&quot;,Courier,monospace\">          \n",
       "q_0: ─────\n",
       "          \n",
       "q_1: ─────\n",
       "          \n",
       "q_2: ─────\n",
       "     ┌───┐\n",
       "q_3: ┤ X ├\n",
       "     └───┘</pre>"
      ],
      "text/plain": [
       "          \n",
       "q_0: ─────\n",
       "          \n",
       "q_1: ─────\n",
       "          \n",
       "q_2: ─────\n",
       "     ┌───┐\n",
       "q_3: ┤ X ├\n",
       "     └───┘"
      ]
     },
     "metadata": {},
     "output_type": "display_data"
    }
   ],
   "source": [
    "display(deutsch_josza(3).draw())"
   ]
  },
  {
   "cell_type": "code",
   "execution_count": 64,
   "metadata": {},
   "outputs": [
    {
     "name": "stdout",
     "output_type": "stream",
     "text": [
      "The function is constant.\n",
      "\n",
      "Deutsch-Jozsa circuit:\n"
     ]
    },
    {
     "data": {
      "image/png": "[encoded data removed]",
      "text/plain": [
       "<Figure size 538.33x451.5 with 1 Axes>"
      ]
     },
     "metadata": {},
     "output_type": "display_data"
    },
    {
     "name": "stdout",
     "output_type": "stream",
     "text": [
      "\n",
      "Simulation results:\n",
      "{'000': 1024}\n"
     ]
    },
    {
     "data": {
      "image/png": "[encoded data removed]",
      "text/plain": [
       "<Figure size 640x480 with 1 Axes>"
      ]
     },
     "execution_count": 64,
     "metadata": {},
     "output_type": "execute_result"
    }
   ],
   "source": [
    "from qiskit import QuantumCircuit,transpile\n",
    "from qiskit_aer import AerSimulator  # Updated import\n",
    "from qiskit.visualization import plot_histogram\n",
    "import random\n",
    "\n",
    "# Query gate implementation for a given f(x)\n",
    "def create_query_gate(n_qubits, function):\n",
    "    \"\"\"\n",
    "    Creates the quantum circuit for the query gate U_f.\n",
    "    \n",
    "    Args:\n",
    "    - n_qubits (int): Number of input qubits\n",
    "    - function (callable): A Boolean function f(x) that returns 0 or 1\n",
    "    \n",
    "    Returns:\n",
    "    - QuantumCircuit: Circuit implementing U_f\n",
    "    \"\"\"\n",
    "    qc = QuantumCircuit(n_qubits + 1)\n",
    "    \n",
    "    for x in range(2**n_qubits):\n",
    "        binary_x = f\"{x:0{n_qubits}b}\"\n",
    "        if function(binary_x) == 1:\n",
    "            # Apply X gate to the auxiliary qubit for f(x)=1\n",
    "            for i, bit in enumerate(reversed(binary_x)):\n",
    "                if bit == '0':\n",
    "                    qc.x(i)\n",
    "            qc.mcx(list(range(n_qubits)), n_qubits)  # Apply multi-controlled X\n",
    "            for i, bit in enumerate(reversed(binary_x)):\n",
    "                if bit == '0':\n",
    "                    qc.x(i)\n",
    "    \n",
    "    return qc\n",
    "\n",
    "# Deutsch-Jozsa circuit\n",
    "def deutsch_jozsa_circuit(query_gate, n_qubits):\n",
    "    \"\"\"\n",
    "    Creates the Deutsch-Jozsa circuit.\n",
    "    \n",
    "    Args:\n",
    "    - query_gate (QuantumCircuit): Quantum query gate U_f\n",
    "    - n_qubits (int): Number of input qubits\n",
    "    \n",
    "    Returns:\n",
    "    - QuantumCircuit: Full Deutsch-Jozsa circuit\n",
    "    \"\"\"\n",
    "    qc = QuantumCircuit(n_qubits + 1, n_qubits)\n",
    "    \n",
    "    # Apply H gates to input qubits and initialize |-> on the auxiliary qubit\n",
    "    qc.h(range(n_qubits))\n",
    "    qc.x(n_qubits)\n",
    "    qc.h(n_qubits)\n",
    "    \n",
    "    # Add the query gate\n",
    "    qc.compose(query_gate, inplace=True)\n",
    "    \n",
    "    # Apply H gates to input qubits again\n",
    "    qc.h(range(n_qubits))\n",
    "    \n",
    "    # Measure the input qubits\n",
    "    qc.measure(range(n_qubits), range(n_qubits))\n",
    "    \n",
    "    return qc\n",
    "\n",
    "# Random function generator\n",
    "def random_function(n_qubits):\n",
    "    \"\"\"\n",
    "    Generates a random constant or balanced function.\n",
    "    \n",
    "    Args:\n",
    "    - n_qubits (int): Number of input qubits\n",
    "    \n",
    "    Returns:\n",
    "    - function: A callable Boolean function f(x)\n",
    "    - str: \"constant\" or \"balanced\"\n",
    "    \"\"\"\n",
    "    is_constant = random.choice([True, False])\n",
    "    if is_constant:\n",
    "        value = random.choice([0, 1])\n",
    "        return lambda x: value, \"constant\"\n",
    "    else:\n",
    "        half_size = 2**(n_qubits - 1)\n",
    "        balanced_set = set(random.sample(range(2**n_qubits), half_size))\n",
    "        return lambda x: 1 if int(x, 2) in balanced_set else 0, \"balanced\"\n",
    "\n",
    "# Test the Deutsch-Jozsa algorithm\n",
    "n_qubits = 3\n",
    "function, func_type = random_function(n_qubits)\n",
    "query_gate = create_query_gate(n_qubits, function)\n",
    "dj_circuit = deutsch_jozsa_circuit(query_gate, n_qubits)\n",
    "\n",
    "print(f\"The function is {func_type}.\")\n",
    "print(\"\\nDeutsch-Jozsa circuit:\")\n",
    "display(dj_circuit.draw(\"mpl\"))\n",
    "\n",
    "# Simulate the circuit using AerSimulator\n",
    "simulator = AerSimulator()  # Updated to use AerSimulator\n",
    "\n",
    "results = simulator.run(dj_circuit, shots=1024).result()  # Run directly without execute\n",
    "counts = results.get_counts()\n",
    "\n",
    "# Display results\n",
    "print(\"\\nSimulation results:\")\n",
    "print(counts)\n",
    "plot_histogram(counts)\n"
   ]
  },
  {
   "cell_type": "code",
   "execution_count": null,
   "metadata": {},
   "outputs": [
    {
     "name": "stdout",
     "output_type": "stream",
     "text": [
      "     ┌───┐┌───┐     ┌───┐          ┌───┐          ┌───┐     ┌───┐┌─┐      \n",
      "q_0: ┤ H ├┤ X ├──■──┤ X ├───────■──┤ X ├───────■──┤ X ├──■──┤ H ├┤M├──────\n",
      "     ├───┤├───┤  │  ├───┤┌───┐  │  ├───┤       │  └───┘  │  ├───┤└╥┘┌─┐   \n",
      "q_1: ┤ H ├┤ X ├──■──┤ X ├┤ X ├──■──┤ X ├───────■─────────■──┤ H ├─╫─┤M├───\n",
      "     ├───┤├───┤  │  ├───┤├───┤  │  ├───┤┌───┐  │  ┌───┐  │  ├───┤ ║ └╥┘┌─┐\n",
      "q_2: ┤ H ├┤ X ├──■──┤ X ├┤ X ├──■──┤ X ├┤ X ├──■──┤ X ├──■──┤ H ├─╫──╫─┤M├\n",
      "     ├───┤├───┤┌─┴─┐└───┘└───┘┌─┴─┐└───┘└───┘┌─┴─┐└───┘┌─┴─┐└───┘ ║  ║ └╥┘\n",
      "q_3: ┤ X ├┤ H ├┤ X ├──────────┤ X ├──────────┤ X ├─────┤ X ├──────╫──╫──╫─\n",
      "     └───┘└───┘└───┘          └───┘          └───┘     └───┘      ║  ║  ║ \n",
      "c: 3/═════════════════════════════════════════════════════════════╩══╩══╩═\n",
      "                                                                  0  1  2 \n"
     ]
    }
   ],
   "source": [
    "print(dj_circuit)"
   ]
  },
  {
   "cell_type": "code",
   "execution_count": null,
   "metadata": {},
   "outputs": [],
   "source": []
  },
  {
   "cell_type": "code",
   "execution_count": null,
   "metadata": {},
   "outputs": [],
   "source": []
  }
 ],
 "metadata": {
  "kernelspec": {
   "display_name": "Python 3",
   "language": "python",
   "name": "python3"
  },
  "language_info": {
   "codemirror_mode": {
    "name": "ipython",
    "version": 3
   },
   "file_extension": ".py",
   "mimetype": "text/x-python",
   "name": "python",
   "nbconvert_exporter": "python",
   "pygments_lexer": "ipython3",
   "version": "3.11.8"
  }
 },
 "nbformat": 4,
 "nbformat_minor": 2
}
