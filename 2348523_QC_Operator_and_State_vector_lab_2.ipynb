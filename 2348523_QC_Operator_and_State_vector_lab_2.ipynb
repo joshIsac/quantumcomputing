{
  "nbformat": 4,
  "nbformat_minor": 0,
  "metadata": {
    "colab": {
      "provenance": [],
      "authorship_tag": "ABX9TyNTmZlT3PPlKqTLcsYox8wo",
      "include_colab_link": true
    },
    "kernelspec": {
      "name": "python3",
      "display_name": "Python 3"
    },
    "language_info": {
      "name": "python"
    }
  },
  "cells": [
    {
      "cell_type": "markdown",
      "metadata": {
        "id": "view-in-github",
        "colab_type": "text"
      },
      "source": [
        "<a href=\"https://colab.research.google.com/github/joshIsac/quantumcomputing/blob/main/2348523_QC_Operator_and_State_vector_lab_2.ipynb\" target=\"_parent\"><img src=\"https://colab.research.google.com/assets/colab-badge.svg\" alt=\"Open In Colab\"/></a>"
      ]
    },
    {
      "cell_type": "code",
      "source": [
        "!pip install qiskit"
      ],
      "metadata": {
        "colab": {
          "base_uri": "https://localhost:8080/",
          "height": 0
        },
        "id": "tk9SEGZQYZ0j",
        "outputId": "7a1db4ab-0dcb-4c35-be08-bbddfe939552",
        "collapsed": true
      },
      "execution_count": 22,
      "outputs": [
        {
          "output_type": "stream",
          "name": "stdout",
          "text": [
            "Requirement already satisfied: qiskit in /usr/local/lib/python3.10/dist-packages (1.2.4)\n",
            "Requirement already satisfied: rustworkx>=0.15.0 in /usr/local/lib/python3.10/dist-packages (from qiskit) (0.15.1)\n",
            "Requirement already satisfied: numpy<3,>=1.17 in /usr/local/lib/python3.10/dist-packages (from qiskit) (1.26.4)\n",
            "Requirement already satisfied: scipy>=1.5 in /usr/local/lib/python3.10/dist-packages (from qiskit) (1.13.1)\n",
            "Requirement already satisfied: sympy>=1.3 in /usr/local/lib/python3.10/dist-packages (from qiskit) (1.13.3)\n",
            "Requirement already satisfied: dill>=0.3 in /usr/local/lib/python3.10/dist-packages (from qiskit) (0.3.9)\n",
            "Requirement already satisfied: python-dateutil>=2.8.0 in /usr/local/lib/python3.10/dist-packages (from qiskit) (2.8.2)\n",
            "Requirement already satisfied: stevedore>=3.0.0 in /usr/local/lib/python3.10/dist-packages (from qiskit) (5.3.0)\n",
            "Requirement already satisfied: typing-extensions in /usr/local/lib/python3.10/dist-packages (from qiskit) (4.12.2)\n",
            "Requirement already satisfied: symengine<0.14,>=0.11 in /usr/local/lib/python3.10/dist-packages (from qiskit) (0.13.0)\n",
            "Requirement already satisfied: six>=1.5 in /usr/local/lib/python3.10/dist-packages (from python-dateutil>=2.8.0->qiskit) (1.16.0)\n",
            "Requirement already satisfied: pbr>=2.0.0 in /usr/local/lib/python3.10/dist-packages (from stevedore>=3.0.0->qiskit) (6.1.0)\n",
            "Requirement already satisfied: mpmath<1.4,>=1.1.0 in /usr/local/lib/python3.10/dist-packages (from sympy>=1.3->qiskit) (1.3.0)\n"
          ]
        }
      ]
    },
    {
      "cell_type": "code",
      "execution_count": 23,
      "metadata": {
        "id": "JBaVtzs_Xe9O"
      },
      "outputs": [],
      "source": [
        "#performing operations with operators and state vector\n",
        "import qiskit\n",
        "from qiskit.quantum_info import Statevector\n",
        "from qiskit.quantum_info import Operator\n",
        "import numpy as np\n",
        "import math\n",
        "import random"
      ]
    },
    {
      "cell_type": "code",
      "source": [
        "#performing operation on X,Y,Z,H,S,T\n",
        "X=Operator(np.array([[0,1],[1,0]])) # Pauli-X (NOT) gate\n",
        "Y=Operator(np.array([[0,-1j],[1j,0]]))#PAULI-Y GATE\n",
        "Z=Operator(np.array([[1,0],[0,-1]])) # Pauli-Z gate\n",
        "H=Operator(np.array([[1/math.sqrt(2),1/math.sqrt(2)],[1/math.sqrt(2),-1/math.sqrt(2)]])) #hadamard operator\n",
        "S=Operator(np.array([[1,0],[0,1.0j]]))\n",
        "T=Operator(np.array([[1,0],[0,(1+1.0j)/math.sqrt(2)]]))#pi/8 operator\n",
        "\n",
        "state =Statevector([1,0])\n",
        "print(\"Initial state |0⟩:\", state)\n",
        "print(\"X_operator:\",X)\n",
        "print(\"Y_operator:\",Y)\n",
        "print(\"Z_operator:\",Z)\n",
        "print(\"H_operator:\",H)\n",
        "print(\"S_operator:\",S)\n",
        "print(\"T_operator:\",T)"
      ],
      "metadata": {
        "colab": {
          "base_uri": "https://localhost:8080/",
          "height": 0
        },
        "id": "g8aCFrXzYVtj",
        "outputId": "dfc23eca-f10e-45da-8b6e-ad193736a490"
      },
      "execution_count": 24,
      "outputs": [
        {
          "output_type": "stream",
          "name": "stdout",
          "text": [
            "Initial state |0⟩: Statevector([1.+0.j, 0.+0.j],\n",
            "            dims=(2,))\n",
            "X_operator: Operator([[0.+0.j, 1.+0.j],\n",
            "          [1.+0.j, 0.+0.j]],\n",
            "         input_dims=(2,), output_dims=(2,))\n",
            "Y_operator: Operator([[ 0.+0.j, -0.-1.j],\n",
            "          [ 0.+1.j,  0.+0.j]],\n",
            "         input_dims=(2,), output_dims=(2,))\n",
            "Z_operator: Operator([[ 1.+0.j,  0.+0.j],\n",
            "          [ 0.+0.j, -1.+0.j]],\n",
            "         input_dims=(2,), output_dims=(2,))\n",
            "H_operator: Operator([[ 0.70710678+0.j,  0.70710678+0.j],\n",
            "          [ 0.70710678+0.j, -0.70710678+0.j]],\n",
            "         input_dims=(2,), output_dims=(2,))\n",
            "S_operator: Operator([[1.+0.j, 0.+0.j],\n",
            "          [0.+0.j, 0.+1.j]],\n",
            "         input_dims=(2,), output_dims=(2,))\n",
            "T_operator: Operator([[1.        +0.j        , 0.        +0.j        ],\n",
            "          [0.        +0.j        , 0.70710678+0.70710678j]],\n",
            "         input_dims=(2,), output_dims=(2,))\n"
          ]
        }
      ]
    },
    {
      "cell_type": "markdown",
      "source": [
        "here X,Y,Z are pauli operators\n",
        "where X Flips  ∣0⟩ to ∣1⟩\n",
        "\n",
        "\n",
        "\n",
        "H is Hadamard gate s gate is phase gate\n",
        "and  T gate also known to be as pi/8 gate"
      ],
      "metadata": {
        "id": "k-9ERgNqpz08"
      }
    },
    {
      "cell_type": "markdown",
      "source": [
        "in the below code we represent the state vector in the form of a unitary matrix evolving it over the time\n"
      ],
      "metadata": {
        "id": "yAB608ViBAao"
      }
    },
    {
      "cell_type": "code",
      "source": [
        "#performing operations with operators by evolving\n",
        "state= state.evolve(X)\n",
        "print(\"\\nAfter X gate:\", state)\n",
        "state= state.evolve(Y)\n",
        "print(\"\\nAfter Y gate:\", state)\n",
        "state= state.evolve(Z)\n",
        "print(\"\\nAfter Z gate:\", state)\n",
        "state= state.evolve(H)\n",
        "print(\"\\nAfter H gate:\", state)\n",
        "state= state.evolve(H)\n",
        "print(\"\\nAfter S gate:\", state)\n",
        "state= state.evolve(S)\n",
        "print(\"\\nAfter T gate:\", state)\n",
        "state= state.evolve(T)\n"
      ],
      "metadata": {
        "colab": {
          "base_uri": "https://localhost:8080/",
          "height": 0
        },
        "id": "ncKJ5sFgfW-T",
        "outputId": "0850f46c-c069-47d0-e588-3131af937ed6"
      },
      "execution_count": 25,
      "outputs": [
        {
          "output_type": "stream",
          "name": "stdout",
          "text": [
            "\n",
            "After X gate: Statevector([0.+0.j, 1.+0.j],\n",
            "            dims=(2,))\n",
            "\n",
            "After Y gate: Statevector([0.-1.j, 0.+0.j],\n",
            "            dims=(2,))\n",
            "\n",
            "After Z gate: Statevector([0.-1.j, 0.+0.j],\n",
            "            dims=(2,))\n",
            "\n",
            "After H gate: Statevector([0.-0.70710678j, 0.-0.70710678j],\n",
            "            dims=(2,))\n",
            "\n",
            "After S gate: Statevector([0.-1.j, 0.+0.j],\n",
            "            dims=(2,))\n",
            "\n",
            "After T gate: Statevector([0.-1.j, 0.+0.j],\n",
            "            dims=(2,))\n"
          ]
        }
      ]
    },
    {
      "cell_type": "code",
      "source": [
        "display(state.draw('text'))"
      ],
      "metadata": {
        "colab": {
          "base_uri": "https://localhost:8080/",
          "height": 34
        },
        "id": "PwpJuS6hVOwP",
        "outputId": "ade9d3c8-518e-425e-c863-57459ad44881"
      },
      "execution_count": 26,
      "outputs": [
        {
          "output_type": "display_data",
          "data": {
            "text/plain": [
              "[0.-1.j,0.+0.j]"
            ]
          },
          "metadata": {}
        }
      ]
    },
    {
      "cell_type": "code",
      "source": [
        "!pip install pylatexenc"
      ],
      "metadata": {
        "colab": {
          "base_uri": "https://localhost:8080/",
          "height": 0
        },
        "id": "BbGnxWWVKDpM",
        "outputId": "e05c3c91-2a29-4a8a-e952-6a29f2fc2559"
      },
      "execution_count": 27,
      "outputs": [
        {
          "output_type": "stream",
          "name": "stdout",
          "text": [
            "Requirement already satisfied: pylatexenc in /usr/local/lib/python3.10/dist-packages (2.10)\n"
          ]
        }
      ]
    },
    {
      "cell_type": "code",
      "source": [
        "#Draw a simple circuit for these operation.\n",
        "from qiskit import QuantumCircuit\n",
        "qc = QuantumCircuit(1)\n",
        "qc.x(0)\n",
        "qc.y(0)\n",
        "qc.z(0)\n",
        "qc.h(0)\n",
        "qc.s(0)\n",
        "qc.t(0)\n",
        "\n",
        "\n",
        "display(qc.draw(output=\"mpl\"))"
      ],
      "metadata": {
        "colab": {
          "base_uri": "https://localhost:8080/",
          "height": 127
        },
        "id": "jTYMEWTYUoxK",
        "outputId": "13d3a1bf-1ad3-4f8b-ae9f-47d795fc73d2"
      },
      "execution_count": 28,
      "outputs": [
        {
          "output_type": "display_data",
          "data": {
            "text/plain": [
              "<Figure size 603.508x117.056 with 1 Axes>"
            ],
            "image/png": "[encoded data removed]"
          },
          "metadata": {}
        }
      ]
    },
    {
      "cell_type": "code",
      "source": [
        "ket0=Statevector([1,0])\n",
        "ket1=Statevector([0,1])\n",
        "\n",
        "state=ket0.evolve(qc)\n",
        "display(state.draw('text'))\n"
      ],
      "metadata": {
        "colab": {
          "base_uri": "https://localhost:8080/",
          "height": 34
        },
        "id": "1sq__d7PO1ue",
        "outputId": "4d4a9075-971f-4e6e-cf2c-f954e9568920"
      },
      "execution_count": 29,
      "outputs": [
        {
          "output_type": "display_data",
          "data": {
            "text/plain": [
              "[0. -0.70710678j,0.5+0.5j       ]"
            ]
          },
          "metadata": {}
        }
      ]
    },
    {
      "cell_type": "code",
      "source": [
        "state = ket1.evolve(qc)\n",
        "display(state.draw('text'))"
      ],
      "metadata": {
        "colab": {
          "base_uri": "https://localhost:8080/",
          "height": 34
        },
        "id": "qLtF2wq95Em6",
        "outputId": "bf771b3e-ab20-4cbf-8f46-fa0343b9dbda"
      },
      "execution_count": 30,
      "outputs": [
        {
          "output_type": "display_data",
          "data": {
            "text/plain": [
              "[ 0. -0.70710678j,-0.5-0.5j       ]"
            ]
          },
          "metadata": {}
        }
      ]
    },
    {
      "cell_type": "code",
      "source": [
        "#simulating the measurements\n",
        "qc.measure_all()\n",
        "display(qc.draw(output=\"mpl\"))"
      ],
      "metadata": {
        "colab": {
          "base_uri": "https://localhost:8080/",
          "height": 183
        },
        "id": "CM278ZFg__BM",
        "outputId": "57b861eb-6472-45f6-bbe2-c3c7d6753fcc"
      },
      "execution_count": 31,
      "outputs": [
        {
          "output_type": "display_data",
          "data": {
            "text/plain": [
              "<Figure size 831.22x200.667 with 1 Axes>"
            ],
            "image/png": "[encoded data removed]"
          },
          "metadata": {}
        }
      ]
    },
    {
      "cell_type": "code",
      "source": [
        "stat_state=state.sample_counts(10000)\n",
        "print(stat_state)"
      ],
      "metadata": {
        "colab": {
          "base_uri": "https://localhost:8080/",
          "height": 0
        },
        "id": "AwxBtI2yAOLV",
        "outputId": "9fd0d7ce-96d2-4f38-8fef-be1031d2a8ce"
      },
      "execution_count": 32,
      "outputs": [
        {
          "output_type": "stream",
          "name": "stdout",
          "text": [
            "{'0': 5040, '1': 4960}\n"
          ]
        }
      ]
    },
    {
      "cell_type": "code",
      "source": [
        "#plotting the states of QUBITS\n",
        "from qiskit.visualization import plot_histogram\n",
        "plot_histogram(stat_state)"
      ],
      "metadata": {
        "colab": {
          "base_uri": "https://localhost:8080/",
          "height": 429
        },
        "id": "qATrO8OpGVei",
        "outputId": "bd1948dc-a89e-40b2-fe1c-af99bd839f4f"
      },
      "execution_count": 33,
      "outputs": [
        {
          "output_type": "execute_result",
          "data": {
            "text/plain": [
              "<Figure size 640x480 with 1 Axes>"
            ],
            "image/png": "[encoded data removed]"
          },
          "metadata": {},
          "execution_count": 33
        }
      ]
    },
    {
      "cell_type": "code",
      "source": [
        "#Proof that R is square root of NOT  operation. where R is a Hadamard operation, followed by the S operation, followed by another Hadamard operation.\n",
        "#r^2=X\n",
        "R=H@S@H\n",
        "print(\"R_operator:\",R)\n"
      ],
      "metadata": {
        "colab": {
          "base_uri": "https://localhost:8080/",
          "height": 0
        },
        "id": "lpIJ6eYJGfkw",
        "outputId": "3bc6a4ad-16ad-4d3d-d6da-14725c64ed58"
      },
      "execution_count": 34,
      "outputs": [
        {
          "output_type": "stream",
          "name": "stdout",
          "text": [
            "R_operator: Operator([[0.5+0.5j, 0.5-0.5j],\n",
            "          [0.5-0.5j, 0.5+0.5j]],\n",
            "         input_dims=(2,), output_dims=(2,))\n"
          ]
        }
      ]
    },
    {
      "cell_type": "code",
      "source": [
        "X=np.array([[0,1],[1,0]])\n",
        "H=np.array([[1/math.sqrt(2),1/math.sqrt(2)],[1/math.sqrt(2),-1/math.sqrt(2)]])\n",
        "S=np.array([[1,0],[0,1.0j]])\n",
        "\n",
        "#calculate H*S\n",
        "R=np.dot(np.dot(H,S),H)\n",
        "print(\"Matrix for R=H*S*H:\")\n",
        "print(R)\n",
        "\n",
        "R_squared=np.dot(R,R)\n",
        "print(\"\\nMatrix for R^2:\")\n",
        "print(R_squared)\n",
        "\n",
        "# Check if  R^2 equals NOT GATE\n",
        "if np.allclose(R_squared, X):\n",
        "    print(\"\\nProof: R^2 equals NOT GATE\")\n",
        "else:\n",
        "    print(\"\\nProof: R^2 does not equal NOT GATE\")\n"
      ],
      "metadata": {
        "colab": {
          "base_uri": "https://localhost:8080/",
          "height": 0
        },
        "id": "HnXJjXiH5QSS",
        "outputId": "ef90fa25-00cb-4829-bd37-42e9cbb845b6"
      },
      "execution_count": 36,
      "outputs": [
        {
          "output_type": "stream",
          "name": "stdout",
          "text": [
            "Matrix for R=H*S*H:\n",
            "[[0.5+0.5j 0.5-0.5j]\n",
            " [0.5-0.5j 0.5+0.5j]]\n",
            "\n",
            "Matrix for R^2:\n",
            "[[0.-2.46519033e-32j 1.+0.00000000e+00j]\n",
            " [1.+0.00000000e+00j 0.+2.46519033e-32j]]\n",
            "\n",
            "Proof: R^2 equals NOT GATE\n"
          ]
        }
      ]
    },
    {
      "cell_type": "markdown",
      "source": [
        "here we see that R is the Square root of pauli X\n",
        ""
      ],
      "metadata": {
        "id": "-PyGbW-fGT5E"
      }
    },
    {
      "cell_type": "code",
      "source": [],
      "metadata": {
        "id": "tgY9BPZ2Ggbh"
      },
      "execution_count": null,
      "outputs": []
    }
  ]
}